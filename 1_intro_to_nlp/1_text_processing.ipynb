{
 "cells": [
  {
   "cell_type": "markdown",
   "metadata": {},
   "source": [
    "# Text Processing\n",
    "\n",
    "## Capturing Text Data\n",
    "\n",
    "### Plain Text"
   ]
  },
  {
   "cell_type": "code",
   "execution_count": 1,
   "metadata": {},
   "outputs": [
    {
     "name": "stdout",
     "output_type": "stream",
     "text": [
      "Hieroglyphic writing dates from c. 3000 BC, and is composed of hundreds of symbols. A hieroglyph can represent a word, a sound, or a silent determinative; and the same symbol can serve different purposes in different contexts. Hieroglyphs were a formal script, used on stone monuments and in tombs, that could be as detailed as individual works of art.\n",
      "\n"
     ]
    }
   ],
   "source": [
    "import os\n",
    "\n",
    "# Read in a plain text file\n",
    "with open(os.path.join(\"data\", \"hieroglyph.txt\"), \"r\") as f:\n",
    "    text = f.read()\n",
    "    print(text)"
   ]
  },
  {
   "cell_type": "markdown",
   "metadata": {},
   "source": [
    "### Tabular Data"
   ]
  },
  {
   "cell_type": "code",
   "execution_count": 2,
   "metadata": {
    "scrolled": true
   },
   "outputs": [
    {
     "data": {
      "text/html": [
       "<div>\n",
       "<style scoped>\n",
       "    .dataframe tbody tr th:only-of-type {\n",
       "        vertical-align: middle;\n",
       "    }\n",
       "\n",
       "    .dataframe tbody tr th {\n",
       "        vertical-align: top;\n",
       "    }\n",
       "\n",
       "    .dataframe thead th {\n",
       "        text-align: right;\n",
       "    }\n",
       "</style>\n",
       "<table border=\"1\" class=\"dataframe\">\n",
       "  <thead>\n",
       "    <tr style=\"text-align: right;\">\n",
       "      <th></th>\n",
       "      <th>publisher</th>\n",
       "      <th>title</th>\n",
       "    </tr>\n",
       "  </thead>\n",
       "  <tbody>\n",
       "    <tr>\n",
       "      <th>0</th>\n",
       "      <td>Livemint</td>\n",
       "      <td>fed's charles plosser sees high bar for change...</td>\n",
       "    </tr>\n",
       "    <tr>\n",
       "      <th>1</th>\n",
       "      <td>IFA Magazine</td>\n",
       "      <td>us open: stocks fall after fed official hints ...</td>\n",
       "    </tr>\n",
       "    <tr>\n",
       "      <th>2</th>\n",
       "      <td>IFA Magazine</td>\n",
       "      <td>fed risks falling 'behind the curve', charles ...</td>\n",
       "    </tr>\n",
       "    <tr>\n",
       "      <th>3</th>\n",
       "      <td>Moneynews</td>\n",
       "      <td>fed's plosser: nasty weather has curbed job gr...</td>\n",
       "    </tr>\n",
       "    <tr>\n",
       "      <th>4</th>\n",
       "      <td>NASDAQ</td>\n",
       "      <td>plosser: fed may have to accelerate tapering pace</td>\n",
       "    </tr>\n",
       "  </tbody>\n",
       "</table>\n",
       "</div>"
      ],
      "text/plain": [
       "      publisher                                              title\n",
       "0      Livemint  fed's charles plosser sees high bar for change...\n",
       "1  IFA Magazine  us open: stocks fall after fed official hints ...\n",
       "2  IFA Magazine  fed risks falling 'behind the curve', charles ...\n",
       "3     Moneynews  fed's plosser: nasty weather has curbed job gr...\n",
       "4        NASDAQ  plosser: fed may have to accelerate tapering pace"
      ]
     },
     "execution_count": 2,
     "metadata": {},
     "output_type": "execute_result"
    }
   ],
   "source": [
    "import pandas as pd\n",
    "\n",
    "# Extract text column from a dataframe\n",
    "df = pd.read_csv(os.path.join(\"data\", \"news.csv\"))\n",
    "df.head()[['publisher', 'title']]\n",
    "\n",
    "# Convert text column to lowercase\n",
    "df['title'] = df['title'].str.lower()\n",
    "df.head()[['publisher', 'title']]"
   ]
  },
  {
   "cell_type": "markdown",
   "metadata": {},
   "source": [
    "### Online Resource"
   ]
  },
  {
   "cell_type": "code",
   "execution_count": 3,
   "metadata": {
    "scrolled": true
   },
   "outputs": [
    {
     "name": "stderr",
     "output_type": "stream",
     "text": [
      "/opt/conda/lib/python3.6/site-packages/urllib3/connectionpool.py:858: InsecureRequestWarning: Unverified HTTPS request is being made. Adding certificate verification is strongly advised. See: https://urllib3.readthedocs.io/en/latest/advanced-usage.html#ssl-warnings\n",
      "  InsecureRequestWarning)\n"
     ]
    },
    {
     "name": "stdout",
     "output_type": "stream",
     "text": [
      "{\n",
      "    \"success\": {\n",
      "        \"total\": 1\n",
      "    },\n",
      "    \"contents\": {\n",
      "        \"quotes\": [\n",
      "            {\n",
      "                \"quote\": \"Meaning is something you build into your life. You build it out of your own past, out of your affections and loyalties, out of the experience of humankind as it is passed on to you... You are the only one who can put them together into that unique pattern that will be your life.\",\n",
      "                \"length\": \"281\",\n",
      "                \"author\": \"John Gardner\",\n",
      "                \"tags\": [\n",
      "                    \"existence\",\n",
      "                    \"inspire\",\n",
      "                    \"life\",\n",
      "                    \"meaning\"\n",
      "                ],\n",
      "                \"category\": \"inspire\",\n",
      "                \"language\": \"en\",\n",
      "                \"date\": \"2022-11-10\",\n",
      "                \"permalink\": \"https://theysaidso.com/quote/john-gardner-meaning-is-something-you-build-into-your-life-you-build-it-out-of-y\",\n",
      "                \"id\": \"0dnJB1FQHoDklJmvdpIseQeF\",\n",
      "                \"background\": \"https://theysaidso.com/img/qod/qod-inspire.jpg\",\n",
      "                \"title\": \"Inspiring Quote of the day\"\n",
      "            }\n",
      "        ]\n",
      "    },\n",
      "    \"baseurl\": \"https://theysaidso.com\",\n",
      "    \"copyright\": {\n",
      "        \"year\": 2024,\n",
      "        \"url\": \"https://theysaidso.com\"\n",
      "    }\n",
      "}\n",
      "Meaning is something you build into your life. You build it out of your own past, out of your affections and loyalties, out of the experience of humankind as it is passed on to you... You are the only one who can put them together into that unique pattern that will be your life. \n",
      "-- John Gardner\n"
     ]
    }
   ],
   "source": [
    "import requests\n",
    "import json\n",
    "\n",
    "# Fetch data from a REST API (note- in production avoid setting verify to False)\n",
    "r = requests.get(\n",
    "    \"https://quotes.rest/qod.json\", verify=False) \n",
    "res = r.json()\n",
    "print(json.dumps(res, indent=4))\n",
    "\n",
    "# Extract relevant object and field\n",
    "q = res[\"contents\"][\"quotes\"][0]\n",
    "print(q[\"quote\"], \"\\n--\", q[\"author\"])"
   ]
  },
  {
   "cell_type": "markdown",
   "metadata": {},
   "source": [
    "## Cleaning"
   ]
  },
  {
   "cell_type": "code",
   "execution_count": 4,
   "metadata": {
    "scrolled": true
   },
   "outputs": [
    {
     "name": "stdout",
     "output_type": "stream",
     "text": [
      "<html lang=\"en\" op=\"news\"><head><meta name=\"referrer\" content=\"origin\"><meta name=\"viewport\" content=\"width=device-width, initial-scale=1.0\"><link rel=\"stylesheet\" type=\"text/css\" href=\"news.css?lFptM7dDr42IpbRL3a4e\">\n",
      "        <link rel=\"shortcut icon\" href=\"favicon.ico\">\n",
      "          <link rel=\"alternate\" type=\"application/rss+xml\" title=\"RSS\" href=\"rss\">\n",
      "        <title>Hacker News</title></head><body><center><table id=\"hnmain\" border=\"0\" cellpadding=\"0\" cellspacing=\"0\" width=\"85%\" bgcolor=\"#f6f6ef\">\n",
      "        <tr><td bgcolor=\"#ff6600\"><table border=\"0\" cellpadding=\"0\" cellspacing=\"0\" width=\"100%\" style=\"padding:2px\"><tr><td style=\"width:18px;padding-right:4px\"><a href=\"https://news.ycombinator.com\"><img src=\"y18.gif\" width=\"18\" height=\"18\" style=\"border:1px white solid;\"></a></td>\n",
      "                  <td style=\"line-height:12pt; height:10px;\"><span class=\"pagetop\"><b class=\"hnname\"><a href=\"news\">Hacker News</a></b>\n",
      "                            <a href=\"newest\">new</a> | <a href=\"front\">past</a> | <a href=\"newcomments\">comments</a> | <a href=\"ask\">ask</a> | <a href=\"show\">show</a> | <a href=\"jobs\">jobs</a> | <a href=\"submit\">submit</a>            </span></td><td style=\"text-align:right;padding-right:4px;\"><span class=\"pagetop\">\n",
      "                              <a href=\"login?goto=news\">login</a>\n",
      "                          </span></td>\n",
      "              </tr></table></td></tr>\n",
      "<tr id=\"pagespace\" title=\"\" style=\"height:10px\"></tr><tr><td><table border=\"0\" cellpadding=\"0\" cellspacing=\"0\" class=\"itemlist\">\n",
      "              <tr class='athing' id='33544883'>\n",
      "      <td align=\"right\" valign=\"top\" class=\"title\"><span class=\"rank\">1.</span></td>      <td valign=\"top\" class=\"votelinks\"><center><a id='up_33544883'href='vote?id=33544883&amp;how=up&amp;goto=news'><div class='votearrow' title='upvote'></div></a></center></td><td class=\"title\"><span class=\"titleline\"><a href=\"https://bugs.xdavidhu.me/google/2022/11/10/accidental-70k-google-pixel-lock-screen-bypass/\">Accidental Google Pixel Lock Screen Bypass</a><span class=\"sitebit comhead\"> (<a href=\"from?site=xdavidhu.me\"><span class=\"sitestr\">xdavidhu.me</span></a>)</span></span></td></tr><tr><td colspan=\"2\"></td><td class=\"subtext\"><span class=\"subline\">\n",
      "          <span class=\"score\" id=\"score_33544883\">632 points</span> by <a href=\"user?id=BXWPU\" class=\"hnuser\">BXWPU</a> <span class=\"age\" title=\"2022-11-10T11:11:26\"><a href=\"item?id=33544883\">4 hours ago</a></span> <span id=\"unv_33544883\"></span> | <a href=\"hide?id=33544883&amp;goto=news\">hide</a> | <a href=\"item?id=33544883\">210&nbsp;comments</a>        </span>\n",
      "              </td></tr>\n",
      "      <tr class=\"spacer\" style=\"height:5px\"></tr>\n",
      "                <tr class='athing' id='33546142'>\n",
      "      <td align=\"right\" valign=\"top\" class=\"title\"><span class=\"rank\">2.</span></td>      <td valign=\"top\" class=\"votelinks\"><center><a id='up_33546142'href='vote?id=33546142&amp;how=up&amp;goto=news'><div class='votearrow' title='upvote'></div></a></center></td><td class=\"title\"><span class=\"titleline\"><a href=\"https://www.bls.gov/news.release/archives/cpi_11102022.htm\">US annual inflation declines to 7.7% in October vs. 7.9% expected</a><span class=\"sitebit comhead\"> (<a href=\"from?site=bls.gov\"><span class=\"sitestr\">bls.gov</span></a>)</span></span></td></tr><tr><td colspan=\"2\"></td><td class=\"subtext\"><span class=\"subline\">\n",
      "          <span class=\"score\" id=\"score_33546142\">183 points</span> by <a href=\"user?id=ericliuche\" class=\"hnuser\">ericliuche</a> <span class=\"age\" title=\"2022-11-10T13:33:35\"><a href=\"item?id=33546142\">1 hour ago</a></span> <span id=\"unv_33546142\"></span> | <a href=\"hide?id=33546142&amp;goto=news\">hide</a> | <a href=\"item?id=33546142\">206&nbsp;comments</a>        </span>\n",
      "              </td></tr>\n",
      "      <tr class=\"spacer\" style=\"height:5px\"></tr>\n",
      "                <tr class='athing' id='33546852'>\n",
      "      <td align=\"right\" valign=\"top\" class=\"title\"><span class=\"rank\">3.</span></td>      <td valign=\"top\" class=\"votelinks\"><center><a id='up_33546852'href='vote?id=33546852&amp;how=up&amp;goto=news'><div class='votearrow' title='upvote'></div></a></center></td><td class=\"title\"><span class=\"titleline\"><a href=\"https://joukovsky.substack.com/p/oxford-university-presss-new-logo\">Oxford University Press’s new logo is unfathomably bad</a><span class=\"sitebit comhead\"> (<a href=\"from?site=joukovsky.substack.com\"><span class=\"sitestr\">joukovsky.substack.com</span></a>)</span></span></td></tr><tr><td colspan=\"2\"></td><td class=\"subtext\"><span class=\"subline\">\n",
      "          <span class=\"score\" id=\"score_33546852\">28 points</span> by <a href=\"user?id=vitabenes\" class=\"hnuser\">vitabenes</a> <span class=\"age\" title=\"2022-11-10T14:23:48\"><a href=\"item?id=33546852\">1 hour ago</a></span> <span id=\"unv_33546852\"></span> | <a href=\"hide?id=33546852&amp;goto=news\">hide</a> | <a href=\"item?id=33546852\">20&nbsp;comments</a>        </span>\n",
      "              </td></tr>\n",
      "      <tr class=\"spacer\" style=\"height:5px\"></tr>\n",
      "                <tr class='athing' id='33545209'>\n",
      "      <td align=\"right\" valign=\"top\" class=\"title\"><span class=\"rank\">4.</span></td>      <td valign=\"top\" class=\"votelinks\"><center><a id='up_33545209'href='vote?id=33545209&amp;how=up&amp;goto=news'><div class='votearrow' title='upvote'></div></a></center></td><td class=\"title\"><span class=\"titleline\"><a href=\"https://milkyeggs.com/?p=136\">Why are clinical trials so expensive? Tales from the beast’s belly</a><span class=\"sitebit comhead\"> (<a href=\"from?site=milkyeggs.com\"><span class=\"sitestr\">milkyeggs.com</span></a>)</span></span></td></tr><tr><td colspan=\"2\"></td><td class=\"subtext\"><span class=\"subline\">\n",
      "          <span class=\"score\" id=\"score_33545209\">72 points</span> by <a href=\"user?id=wawayanda\" class=\"hnuser\">wawayanda</a> <span class=\"age\" title=\"2022-11-10T12:00:03\"><a href=\"item?id=33545209\">3 hours ago</a></span> <span id=\"unv_33545209\"></span> | <a href=\"hide?id=33545209&amp;goto=news\">hide</a> | <a href=\"item?id=33545209\">19&nbsp;comments</a>        </span>\n",
      "              </td></tr>\n",
      "      <tr class=\"spacer\" style=\"height:5px\"></tr>\n",
      "                <tr class='athing' id='33546415'>\n",
      "      <td align=\"right\" valign=\"top\" class=\"title\"><span class=\"rank\">5.</span></td>      <td valign=\"top\" class=\"votelinks\"><center><a id='up_33546415'href='vote?id=33546415&amp;how=up&amp;goto=news'><div class='votearrow' title='upvote'></div></a></center></td><td class=\"title\"><span class=\"titleline\"><a href=\"https://www.openwall.com/lists/oss-security/2022/11/10/1\">CVE-2022-45063: xterm code execution via font ops</a><span class=\"sitebit comhead\"> (<a href=\"from?site=openwall.com\"><span class=\"sitestr\">openwall.com</span></a>)</span></span></td></tr><tr><td colspan=\"2\"></td><td class=\"subtext\"><span class=\"subline\">\n",
      "          <span class=\"score\" id=\"score_33546415\">18 points</span> by <a href=\"user?id=jwilk\" class=\"hnuser\">jwilk</a> <span class=\"age\" title=\"2022-11-10T13:55:20\"><a href=\"item?id=33546415\">1 hour ago</a></span> <span id=\"unv_33546415\"></span> | <a href=\"hide?id=33546415&amp;goto=news\">hide</a> | <a href=\"item?id=33546415\">4&nbsp;comments</a>        </span>\n",
      "              </td></tr>\n",
      "      <tr class=\"spacer\" style=\"height:5px\"></tr>\n",
      "                <tr class='athing' id='33547323'>\n",
      "      <td align=\"right\" valign=\"top\" class=\"title\"><span class=\"rank\">6.</span></td>      <td valign=\"top\" class=\"votelinks\"><center><a id='up_33547323'href='vote?id=33547323&amp;how=up&amp;goto=news'><div class='votearrow' title='upvote'></div></a></center></td><td class=\"title\"><span class=\"titleline\"><a href=\"https://superfastpython.com/python-asyncio/\" rel=\"nofollow\">Python Asyncio: The Complete Guide</a><span class=\"sitebit comhead\"> (<a href=\"from?site=superfastpython.com\"><span class=\"sitestr\">superfastpython.com</span></a>)</span></span></td></tr><tr><td colspan=\"2\"></td><td class=\"subtext\"><span class=\"subline\">\n",
      "          <span class=\"score\" id=\"score_33547323\">8 points</span> by <a href=\"user?id=simonpure\" class=\"hnuser\">simonpure</a> <span class=\"age\" title=\"2022-11-10T14:54:23\"><a href=\"item?id=33547323\">32 minutes ago</a></span> <span id=\"unv_33547323\"></span> | <a href=\"hide?id=33547323&amp;goto=news\">hide</a> | <a href=\"item?id=33547323\">2&nbsp;comments</a>        </span>\n",
      "              </td></tr>\n",
      "      <tr class=\"spacer\" style=\"height:5px\"></tr>\n",
      "                <tr class='athing' id='33523032'>\n",
      "      <td align=\"right\" valign=\"top\" class=\"title\"><span class=\"rank\">7.</span></td>      <td valign=\"top\" class=\"votelinks\"><center><a id='up_33523032'href='vote?id=33523032&amp;how=up&amp;goto=news'><div class='votearrow' title='upvote'></div></a></center></td><td class=\"title\"><span class=\"titleline\"><a href=\"https://www.bennadel.com/blog/4352-only-solve-one-new-problem-at-a-time.htm\">Only Solve One Problem at a Time</a><span class=\"sitebit comhead\"> (<a href=\"from?site=bennadel.com\"><span class=\"sitestr\">bennadel.com</span></a>)</span></span></td></tr><tr><td colspan=\"2\"></td><td class=\"subtext\"><span class=\"subline\">\n",
      "          <span class=\"score\" id=\"score_33523032\">83 points</span> by <a href=\"user?id=rmason\" class=\"hnuser\">rmason</a> <span class=\"age\" title=\"2022-11-08T19:16:20\"><a href=\"item?id=33523032\">5 hours ago</a></span> <span id=\"unv_33523032\"></span> | <a href=\"hide?id=33523032&amp;goto=news\">hide</a> | <a href=\"item?id=33523032\">30&nbsp;comments</a>        </span>\n",
      "              </td></tr>\n",
      "      <tr class=\"spacer\" style=\"height:5px\"></tr>\n",
      "                <tr class='athing' id='33547102'>\n",
      "      <td align=\"right\" valign=\"top\" class=\"title\"><span class=\"rank\">8.</span></td>      <td valign=\"top\" class=\"votelinks\"><center><a id='up_33547102'href='vote?id=33547102&amp;how=up&amp;goto=news'><div class='votearrow' title='upvote'></div></a></center></td><td class=\"title\"><span class=\"titleline\"><a href=\"https://newsletter.mollywhite.net/p/ftx-explainer\">The Sam Bankman-Fried empire crumbled. What happened? (part one)</a><span class=\"sitebit comhead\"> (<a href=\"from?site=mollywhite.net\"><span class=\"sitestr\">mollywhite.net</span></a>)</span></span></td></tr><tr><td colspan=\"2\"></td><td class=\"subtext\"><span class=\"subline\">\n",
      "          <span class=\"score\" id=\"score_33547102\">32 points</span> by <a href=\"user?id=williamstein\" class=\"hnuser\">williamstein</a> <span class=\"age\" title=\"2022-11-10T14:40:27\"><a href=\"item?id=33547102\">46 minutes ago</a></span> <span id=\"unv_33547102\"></span> | <a href=\"hide?id=33547102&amp;goto=news\">hide</a> | <a href=\"item?id=33547102\">2&nbsp;comments</a>        </span>\n",
      "              </td></tr>\n",
      "      <tr class=\"spacer\" style=\"height:5px\"></tr>\n",
      "                <tr class='athing' id='33545406'>\n",
      "      <td align=\"right\" valign=\"top\" class=\"title\"><span class=\"rank\">9.</span></td>      <td valign=\"top\" class=\"votelinks\"><center><a id='up_33545406'href='vote?id=33545406&amp;how=up&amp;goto=news'><div class='votearrow' title='upvote'></div></a></center></td><td class=\"title\"><span class=\"titleline\"><a href=\"https://yufeng-shen.github.io\">Try TeXmacs in your Browser via WebAssembly (Mogan Fork of TeXmacs)</a><span class=\"sitebit comhead\"> (<a href=\"from?site=yufeng-shen.github.io\"><span class=\"sitestr\">yufeng-shen.github.io</span></a>)</span></span></td></tr><tr><td colspan=\"2\"></td><td class=\"subtext\"><span class=\"subline\">\n",
      "          <span class=\"score\" id=\"score_33545406\">50 points</span> by <a href=\"user?id=amichail\" class=\"hnuser\">amichail</a> <span class=\"age\" title=\"2022-11-10T12:23:22\"><a href=\"item?id=33545406\">3 hours ago</a></span> <span id=\"unv_33545406\"></span> | <a href=\"hide?id=33545406&amp;goto=news\">hide</a> | <a href=\"item?id=33545406\">14&nbsp;comments</a>        </span>\n",
      "              </td></tr>\n",
      "      <tr class=\"spacer\" style=\"height:5px\"></tr>\n",
      "                <tr class='athing' id='33522499'>\n",
      "      <td align=\"right\" valign=\"top\" class=\"title\"><span class=\"rank\">10.</span></td>      <td valign=\"top\" class=\"votelinks\"><center><a id='up_33522499'href='vote?id=33522499&amp;how=up&amp;goto=news'><div class='votearrow' title='upvote'></div></a></center></td><td class=\"title\"><span class=\"titleline\"><a href=\"https://mvdirona.com/jrh/talksandpapers/JamesHamilton20221010.pdf\">Silicon innovation and custom ASICs at Amazon [pdf]</a><span class=\"sitebit comhead\"> (<a href=\"from?site=mvdirona.com\"><span class=\"sitestr\">mvdirona.com</span></a>)</span></span></td></tr><tr><td colspan=\"2\"></td><td class=\"subtext\"><span class=\"subline\">\n",
      "          <span class=\"score\" id=\"score_33522499\">44 points</span> by <a href=\"user?id=mad44\" class=\"hnuser\">mad44</a> <span class=\"age\" title=\"2022-11-08T18:33:19\"><a href=\"item?id=33522499\">4 hours ago</a></span> <span id=\"unv_33522499\"></span> | <a href=\"hide?id=33522499&amp;goto=news\">hide</a> | <a href=\"item?id=33522499\">9&nbsp;comments</a>        </span>\n",
      "              </td></tr>\n",
      "      <tr class=\"spacer\" style=\"height:5px\"></tr>\n",
      "                <tr class='athing' id='33546491'>\n",
      "      <td align=\"right\" valign=\"top\" class=\"title\"><span class=\"rank\">11.</span></td>      <td valign=\"top\" class=\"votelinks\"><center><a id='up_33546491'href='vote?id=33546491&amp;how=up&amp;goto=news'><div class='votearrow' title='upvote'></div></a></center></td><td class=\"title\"><span class=\"titleline\"><a href=\"https://blog.trailofbits.com/2022/11/10/divergent-representations-variable-overflows-c-compiler/\">Look out: Divergent representations are everywhere</a><span class=\"sitebit comhead\"> (<a href=\"from?site=trailofbits.com\"><span class=\"sitestr\">trailofbits.com</span></a>)</span></span></td></tr><tr><td colspan=\"2\"></td><td class=\"subtext\"><span class=\"subline\">\n",
      "          <span class=\"score\" id=\"score_33546491\">13 points</span> by <a href=\"user?id=ingve\" class=\"hnuser\">ingve</a> <span class=\"age\" title=\"2022-11-10T13:59:27\"><a href=\"item?id=33546491\">1 hour ago</a></span> <span id=\"unv_33546491\"></span> | <a href=\"hide?id=33546491&amp;goto=news\">hide</a> | <a href=\"item?id=33546491\">2&nbsp;comments</a>        </span>\n",
      "              </td></tr>\n",
      "      <tr class=\"spacer\" style=\"height:5px\"></tr>\n",
      "                <tr class='athing' id='33547536'>\n",
      "      <td align=\"right\" valign=\"top\" class=\"title\"><span class=\"rank\">12.</span></td>      <td valign=\"top\" class=\"votelinks\"><center><a id='up_33547536'href='vote?id=33547536&amp;how=up&amp;goto=news'><div class='votearrow' title='upvote'></div></a></center></td><td class=\"title\"><span class=\"titleline\"><a href=\"https://www.townandcountrymag.com/society/money-and-power/a41625115/john-donovan-mit-professor-crimes/\" rel=\"nofollow\">Bad Professor: The Rise and Fall of John Donovan</a><span class=\"sitebit comhead\"> (<a href=\"from?site=townandcountrymag.com\"><span class=\"sitestr\">townandcountrymag.com</span></a>)</span></span></td></tr><tr><td colspan=\"2\"></td><td class=\"subtext\"><span class=\"subline\">\n",
      "          <span class=\"score\" id=\"score_33547536\">3 points</span> by <a href=\"user?id=indigodaddy\" class=\"hnuser\">indigodaddy</a> <span class=\"age\" title=\"2022-11-10T15:07:14\"><a href=\"item?id=33547536\">19 minutes ago</a></span> <span id=\"unv_33547536\"></span> | <a href=\"hide?id=33547536&amp;goto=news\">hide</a> | <a href=\"item?id=33547536\">discuss</a>        </span>\n",
      "              </td></tr>\n",
      "      <tr class=\"spacer\" style=\"height:5px\"></tr>\n",
      "                <tr class='athing' id='33545215'>\n",
      "      <td align=\"right\" valign=\"top\" class=\"title\"><span class=\"rank\">13.</span></td>      <td></td><td class=\"title\"><span class=\"titleline\"><a href=\"https://www.ycombinator.com/companies/kamion/jobs/pHwM0r2-software-engineer-frontend\" rel=\"nofollow\">Kamion (YC S22) Is Hiring</a><span class=\"sitebit comhead\"> (<a href=\"from?site=ycombinator.com\"><span class=\"sitestr\">ycombinator.com</span></a>)</span></span></td></tr><tr><td colspan=\"2\"></td><td class=\"subtext\">\n",
      "        <span class=\"age\" title=\"2022-11-10T12:00:35\"><a href=\"item?id=33545215\">3 hours ago</a></span> | <a href=\"hide?id=33545215&amp;goto=news\">hide</a>      </td></tr>\n",
      "      <tr class=\"spacer\" style=\"height:5px\"></tr>\n",
      "                <tr class='athing' id='33544230'>\n",
      "      <td align=\"right\" valign=\"top\" class=\"title\"><span class=\"rank\">14.</span></td>      <td valign=\"top\" class=\"votelinks\"><center><a id='up_33544230'href='vote?id=33544230&amp;how=up&amp;goto=news'><div class='votearrow' title='upvote'></div></a></center></td><td class=\"title\"><span class=\"titleline\"><a href=\"https://entrackr.com/2022/11/exclusive-indian-isps-we-already-give-govt-full-access-to-web-traffic/\">Indian ISPs: We already give govt full access to web traffic</a><span class=\"sitebit comhead\"> (<a href=\"from?site=entrackr.com\"><span class=\"sitestr\">entrackr.com</span></a>)</span></span></td></tr><tr><td colspan=\"2\"></td><td class=\"subtext\"><span class=\"subline\">\n",
      "          <span class=\"score\" id=\"score_33544230\">210 points</span> by <a href=\"user?id=instagraham\" class=\"hnuser\">instagraham</a> <span class=\"age\" title=\"2022-11-10T09:40:32\"><a href=\"item?id=33544230\">5 hours ago</a></span> <span id=\"unv_33544230\"></span> | <a href=\"hide?id=33544230&amp;goto=news\">hide</a> | <a href=\"item?id=33544230\">69&nbsp;comments</a>        </span>\n",
      "              </td></tr>\n",
      "      <tr class=\"spacer\" style=\"height:5px\"></tr>\n",
      "                <tr class='athing' id='33545272'>\n",
      "      <td align=\"right\" valign=\"top\" class=\"title\"><span class=\"rank\">15.</span></td>      <td valign=\"top\" class=\"votelinks\"><center><a id='up_33545272'href='vote?id=33545272&amp;how=up&amp;goto=news'><div class='votearrow' title='upvote'></div></a></center></td><td class=\"title\"><span class=\"titleline\"><a href=\"https://github.com/dlrobertson/capsicum-rs\">Capsicum-rs: Rust bindings for the FreeBSD Capsicum framework</a><span class=\"sitebit comhead\"> (<a href=\"from?site=github.com/dlrobertson\"><span class=\"sitestr\">github.com/dlrobertson</span></a>)</span></span></td></tr><tr><td colspan=\"2\"></td><td class=\"subtext\"><span class=\"subline\">\n",
      "          <span class=\"score\" id=\"score_33545272\">19 points</span> by <a href=\"user?id=todsacerdoti\" class=\"hnuser\">todsacerdoti</a> <span class=\"age\" title=\"2022-11-10T12:08:29\"><a href=\"item?id=33545272\">3 hours ago</a></span> <span id=\"unv_33545272\"></span> | <a href=\"hide?id=33545272&amp;goto=news\">hide</a> | <a href=\"item?id=33545272\">1&nbsp;comment</a>        </span>\n",
      "              </td></tr>\n",
      "      <tr class=\"spacer\" style=\"height:5px\"></tr>\n",
      "                <tr class='athing' id='33526325'>\n",
      "      <td align=\"right\" valign=\"top\" class=\"title\"><span class=\"rank\">16.</span></td>      <td valign=\"top\" class=\"votelinks\"><center><a id='up_33526325'href='vote?id=33526325&amp;how=up&amp;goto=news'><div class='votearrow' title='upvote'></div></a></center></td><td class=\"title\"><span class=\"titleline\"><a href=\"https://www.priceintelligently.com/hubfs/Price-Intelligently-SaaS-Pricing-Strategy.pdf\">The Anatomy of SaaS Pricing Strategy (2017) [pdf]</a><span class=\"sitebit comhead\"> (<a href=\"from?site=priceintelligently.com\"><span class=\"sitestr\">priceintelligently.com</span></a>)</span></span></td></tr><tr><td colspan=\"2\"></td><td class=\"subtext\"><span class=\"subline\">\n",
      "          <span class=\"score\" id=\"score_33526325\">68 points</span> by <a href=\"user?id=rfreytag\" class=\"hnuser\">rfreytag</a> <span class=\"age\" title=\"2022-11-09T00:59:31\"><a href=\"item?id=33526325\">6 hours ago</a></span> <span id=\"unv_33526325\"></span> | <a href=\"hide?id=33526325&amp;goto=news\">hide</a> | <a href=\"item?id=33526325\">5&nbsp;comments</a>        </span>\n",
      "              </td></tr>\n",
      "      <tr class=\"spacer\" style=\"height:5px\"></tr>\n",
      "                <tr class='athing' id='33543946'>\n",
      "      <td align=\"right\" valign=\"top\" class=\"title\"><span class=\"rank\">17.</span></td>      <td valign=\"top\" class=\"votelinks\"><center><a id='up_33543946'href='vote?id=33543946&amp;how=up&amp;goto=news'><div class='votearrow' title='upvote'></div></a></center></td><td class=\"title\"><span class=\"titleline\"><a href=\"https://githubnext.com/projects/hey-github/\">Hey, GitHub – Use voice to write code</a><span class=\"sitebit comhead\"> (<a href=\"from?site=githubnext.com\"><span class=\"sitestr\">githubnext.com</span></a>)</span></span></td></tr><tr><td colspan=\"2\"></td><td class=\"subtext\"><span class=\"subline\">\n",
      "          <span class=\"score\" id=\"score_33543946\">249 points</span> by <a href=\"user?id=rcshubhadeep\" class=\"hnuser\">rcshubhadeep</a> <span class=\"age\" title=\"2022-11-10T09:00:44\"><a href=\"item?id=33543946\">6 hours ago</a></span> <span id=\"unv_33543946\"></span> | <a href=\"hide?id=33543946&amp;goto=news\">hide</a> | <a href=\"item?id=33543946\">215&nbsp;comments</a>        </span>\n",
      "              </td></tr>\n",
      "      <tr class=\"spacer\" style=\"height:5px\"></tr>\n",
      "                <tr class='athing' id='33520414'>\n",
      "      <td align=\"right\" valign=\"top\" class=\"title\"><span class=\"rank\">18.</span></td>      <td valign=\"top\" class=\"votelinks\"><center><a id='up_33520414'href='vote?id=33520414&amp;how=up&amp;goto=news'><div class='votearrow' title='upvote'></div></a></center></td><td class=\"title\"><span class=\"titleline\"><a href=\"https://medium.com/knowable/why-everything-looks-the-same-bad80133dd6e\">Why Everything Looks the Same</a><span class=\"sitebit comhead\"> (<a href=\"from?site=medium.com/knowable\"><span class=\"sitestr\">medium.com/knowable</span></a>)</span></span></td></tr><tr><td colspan=\"2\"></td><td class=\"subtext\"><span class=\"subline\">\n",
      "          <span class=\"score\" id=\"score_33520414\">122 points</span> by <a href=\"user?id=champagnepapi\" class=\"hnuser\">champagnepapi</a> <span class=\"age\" title=\"2022-11-08T16:00:00\"><a href=\"item?id=33520414\">7 hours ago</a></span> <span id=\"unv_33520414\"></span> | <a href=\"hide?id=33520414&amp;goto=news\">hide</a> | <a href=\"item?id=33520414\">126&nbsp;comments</a>        </span>\n",
      "              </td></tr>\n",
      "      <tr class=\"spacer\" style=\"height:5px\"></tr>\n",
      "                <tr class='athing' id='33545755'>\n",
      "      <td align=\"right\" valign=\"top\" class=\"title\"><span class=\"rank\">19.</span></td>      <td valign=\"top\" class=\"votelinks\"><center><a id='up_33545755'href='vote?id=33545755&amp;how=up&amp;goto=news'><div class='votearrow' title='upvote'></div></a></center></td><td class=\"title\"><span class=\"titleline\"><a href=\"https://nautil.us/how-i-learned-to-stop-worrying-and-love-uncertainty-245816/\">I Learned to Stop Worrying and Love Uncertainty</a><span class=\"sitebit comhead\"> (<a href=\"from?site=nautil.us\"><span class=\"sitestr\">nautil.us</span></a>)</span></span></td></tr><tr><td colspan=\"2\"></td><td class=\"subtext\"><span class=\"subline\">\n",
      "          <span class=\"score\" id=\"score_33545755\">11 points</span> by <a href=\"user?id=nsoonhui\" class=\"hnuser\">nsoonhui</a> <span class=\"age\" title=\"2022-11-10T12:56:30\"><a href=\"item?id=33545755\">2 hours ago</a></span> <span id=\"unv_33545755\"></span> | <a href=\"hide?id=33545755&amp;goto=news\">hide</a> | <a href=\"item?id=33545755\">1&nbsp;comment</a>        </span>\n",
      "              </td></tr>\n",
      "      <tr class=\"spacer\" style=\"height:5px\"></tr>\n",
      "                <tr class='athing' id='33545004'>\n",
      "      <td align=\"right\" valign=\"top\" class=\"title\"><span class=\"rank\">20.</span></td>      <td valign=\"top\" class=\"votelinks\"><center><a id='up_33545004'href='vote?id=33545004&amp;how=up&amp;goto=news'><div class='votearrow' title='upvote'></div></a></center></td><td class=\"title\"><span class=\"titleline\"><a href=\"https://verdagon.dev/blog/generics-hash-codes-horrors\">Hash Codes, Non-Determinism, and Other Eldritch Horrors</a><span class=\"sitebit comhead\"> (<a href=\"from?site=verdagon.dev\"><span class=\"sitestr\">verdagon.dev</span></a>)</span></span></td></tr><tr><td colspan=\"2\"></td><td class=\"subtext\"><span class=\"subline\">\n",
      "          <span class=\"score\" id=\"score_33545004\">15 points</span> by <a href=\"user?id=GarethX\" class=\"hnuser\">GarethX</a> <span class=\"age\" title=\"2022-11-10T11:30:52\"><a href=\"item?id=33545004\">3 hours ago</a></span> <span id=\"unv_33545004\"></span> | <a href=\"hide?id=33545004&amp;goto=news\">hide</a> | <a href=\"item?id=33545004\">2&nbsp;comments</a>        </span>\n",
      "              </td></tr>\n",
      "      <tr class=\"spacer\" style=\"height:5px\"></tr>\n",
      "                <tr class='athing' id='33542171'>\n",
      "      <td align=\"right\" valign=\"top\" class=\"title\"><span class=\"rank\">21.</span></td>      <td valign=\"top\" class=\"votelinks\"><center><a id='up_33542171'href='vote?id=33542171&amp;how=up&amp;goto=news'><div class='votearrow' title='upvote'></div></a></center></td><td class=\"title\"><span class=\"titleline\"><a href=\"https://openenergymonitor.org/\">OpenEnergyMonitor – open-source monitoring for energy</a><span class=\"sitebit comhead\"> (<a href=\"from?site=openenergymonitor.org\"><span class=\"sitestr\">openenergymonitor.org</span></a>)</span></span></td></tr><tr><td colspan=\"2\"></td><td class=\"subtext\"><span class=\"subline\">\n",
      "          <span class=\"score\" id=\"score_33542171\">103 points</span> by <a href=\"user?id=pabs3\" class=\"hnuser\">pabs3</a> <span class=\"age\" title=\"2022-11-10T04:23:27\"><a href=\"item?id=33542171\">11 hours ago</a></span> <span id=\"unv_33542171\"></span> | <a href=\"hide?id=33542171&amp;goto=news\">hide</a> | <a href=\"item?id=33542171\">23&nbsp;comments</a>        </span>\n",
      "              </td></tr>\n",
      "      <tr class=\"spacer\" style=\"height:5px\"></tr>\n",
      "                <tr class='athing' id='33539192'>\n",
      "      <td align=\"right\" valign=\"top\" class=\"title\"><span class=\"rank\">22.</span></td>      <td valign=\"top\" class=\"votelinks\"><center><a id='up_33539192'href='vote?id=33539192&amp;how=up&amp;goto=news'><div class='votearrow' title='upvote'></div></a></center></td><td class=\"title\"><span class=\"titleline\"><a href=\"https://liuliu.me/eyes/stretch-iphone-to-its-limit-a-2gib-model-that-can-draw-everything-in-your-pocket/\">Stretch iPhone to its limit: 2GiB Stable Diffusion model runs locally on device</a><span class=\"sitebit comhead\"> (<a href=\"from?site=liuliu.me\"><span class=\"sitestr\">liuliu.me</span></a>)</span></span></td></tr><tr><td colspan=\"2\"></td><td class=\"subtext\"><span class=\"subline\">\n",
      "          <span class=\"score\" id=\"score_33539192\">691 points</span> by <a href=\"user?id=GrantS\" class=\"hnuser\">GrantS</a> <span class=\"age\" title=\"2022-11-09T22:45:48\"><a href=\"item?id=33539192\">16 hours ago</a></span> <span id=\"unv_33539192\"></span> | <a href=\"hide?id=33539192&amp;goto=news\">hide</a> | <a href=\"item?id=33539192\">150&nbsp;comments</a>        </span>\n",
      "              </td></tr>\n",
      "      <tr class=\"spacer\" style=\"height:5px\"></tr>\n",
      "                <tr class='athing' id='33545345'>\n",
      "      <td align=\"right\" valign=\"top\" class=\"title\"><span class=\"rank\">23.</span></td>      <td valign=\"top\" class=\"votelinks\"><center><a id='up_33545345'href='vote?id=33545345&amp;how=up&amp;goto=news'><div class='votearrow' title='upvote'></div></a></center></td><td class=\"title\"><span class=\"titleline\"><a href=\"item?id=33545345\">Ask HN: Where to Start with Android Custom ROM or AOSP Development?</a></span></td></tr><tr><td colspan=\"2\"></td><td class=\"subtext\"><span class=\"subline\">\n",
      "          <span class=\"score\" id=\"score_33545345\">32 points</span> by <a href=\"user?id=sptth\" class=\"hnuser\">sptth</a> <span class=\"age\" title=\"2022-11-10T12:17:10\"><a href=\"item?id=33545345\">3 hours ago</a></span> <span id=\"unv_33545345\"></span> | <a href=\"hide?id=33545345&amp;goto=news\">hide</a> | <a href=\"item?id=33545345\">13&nbsp;comments</a>        </span>\n",
      "              </td></tr>\n",
      "      <tr class=\"spacer\" style=\"height:5px\"></tr>\n",
      "                <tr class='athing' id='33545786'>\n",
      "      <td align=\"right\" valign=\"top\" class=\"title\"><span class=\"rank\">24.</span></td>      <td valign=\"top\" class=\"votelinks\"><center><a id='up_33545786'href='vote?id=33545786&amp;how=up&amp;goto=news'><div class='votearrow' title='upvote'></div></a></center></td><td class=\"title\"><span class=\"titleline\"><a href=\"https://daniel.haxx.se/blog/2022/11/10/append-data-to-the-url-query/\">Append data to the url query</a><span class=\"sitebit comhead\"> (<a href=\"from?site=haxx.se\"><span class=\"sitestr\">haxx.se</span></a>)</span></span></td></tr><tr><td colspan=\"2\"></td><td class=\"subtext\"><span class=\"subline\">\n",
      "          <span class=\"score\" id=\"score_33545786\">39 points</span> by <a href=\"user?id=soheilpro\" class=\"hnuser\">soheilpro</a> <span class=\"age\" title=\"2022-11-10T12:59:30\"><a href=\"item?id=33545786\">2 hours ago</a></span> <span id=\"unv_33545786\"></span> | <a href=\"hide?id=33545786&amp;goto=news\">hide</a> | <a href=\"item?id=33545786\">15&nbsp;comments</a>        </span>\n",
      "              </td></tr>\n",
      "      <tr class=\"spacer\" style=\"height:5px\"></tr>\n",
      "                <tr class='athing' id='33522951'>\n",
      "      <td align=\"right\" valign=\"top\" class=\"title\"><span class=\"rank\">25.</span></td>      <td valign=\"top\" class=\"votelinks\"><center><a id='up_33522951'href='vote?id=33522951&amp;how=up&amp;goto=news'><div class='votearrow' title='upvote'></div></a></center></td><td class=\"title\"><span class=\"titleline\"><a href=\"https://ez.substack.com/p/the-death-of-a-statesman\">The Death of a Statesman</a><span class=\"sitebit comhead\"> (<a href=\"from?site=ez.substack.com\"><span class=\"sitestr\">ez.substack.com</span></a>)</span></span></td></tr><tr><td colspan=\"2\"></td><td class=\"subtext\"><span class=\"subline\">\n",
      "          <span class=\"score\" id=\"score_33522951\">16 points</span> by <a href=\"user?id=cribbles\" class=\"hnuser\">cribbles</a> <span class=\"age\" title=\"2022-11-08T19:10:08\"><a href=\"item?id=33522951\">3 hours ago</a></span> <span id=\"unv_33522951\"></span> | <a href=\"hide?id=33522951&amp;goto=news\">hide</a> | <a href=\"item?id=33522951\">3&nbsp;comments</a>        </span>\n",
      "              </td></tr>\n",
      "      <tr class=\"spacer\" style=\"height:5px\"></tr>\n",
      "                <tr class='athing' id='33524330'>\n",
      "      <td align=\"right\" valign=\"top\" class=\"title\"><span class=\"rank\">26.</span></td>      <td valign=\"top\" class=\"votelinks\"><center><a id='up_33524330'href='vote?id=33524330&amp;how=up&amp;goto=news'><div class='votearrow' title='upvote'></div></a></center></td><td class=\"title\"><span class=\"titleline\"><a href=\"https://www.youtube.com/watch?v=6ywODcJ8yu8\">Cameras on phones? (2001) [video]</a><span class=\"sitebit comhead\"> (<a href=\"from?site=youtube.com\"><span class=\"sitestr\">youtube.com</span></a>)</span></span></td></tr><tr><td colspan=\"2\"></td><td class=\"subtext\"><span class=\"subline\">\n",
      "          <span class=\"score\" id=\"score_33524330\">112 points</span> by <a href=\"user?id=vanilla-almond\" class=\"hnuser\">vanilla-almond</a> <span class=\"age\" title=\"2022-11-08T21:09:27\"><a href=\"item?id=33524330\">12 hours ago</a></span> <span id=\"unv_33524330\"></span> | <a href=\"hide?id=33524330&amp;goto=news\">hide</a> | <a href=\"item?id=33524330\">65&nbsp;comments</a>        </span>\n",
      "              </td></tr>\n",
      "      <tr class=\"spacer\" style=\"height:5px\"></tr>\n",
      "                <tr class='athing' id='33520429'>\n",
      "      <td align=\"right\" valign=\"top\" class=\"title\"><span class=\"rank\">27.</span></td>      <td valign=\"top\" class=\"votelinks\"><center><a id='up_33520429'href='vote?id=33520429&amp;how=up&amp;goto=news'><div class='votearrow' title='upvote'></div></a></center></td><td class=\"title\"><span class=\"titleline\"><a href=\"https://arxiv.org/abs/2211.02700\" rel=\"nofollow\">Mouse-level evasion performance using real-time computational planning</a><span class=\"sitebit comhead\"> (<a href=\"from?site=arxiv.org\"><span class=\"sitestr\">arxiv.org</span></a>)</span></span></td></tr><tr><td colspan=\"2\"></td><td class=\"subtext\"><span class=\"subline\">\n",
      "          <span class=\"score\" id=\"score_33520429\">4 points</span> by <a href=\"user?id=PaulHoule\" class=\"hnuser\">PaulHoule</a> <span class=\"age\" title=\"2022-11-08T16:00:56\"><a href=\"item?id=33520429\">1 hour ago</a></span> <span id=\"unv_33520429\"></span> | <a href=\"hide?id=33520429&amp;goto=news\">hide</a> | <a href=\"item?id=33520429\">discuss</a>        </span>\n",
      "              </td></tr>\n",
      "      <tr class=\"spacer\" style=\"height:5px\"></tr>\n",
      "                <tr class='athing' id='33523736'>\n",
      "      <td align=\"right\" valign=\"top\" class=\"title\"><span class=\"rank\">28.</span></td>      <td valign=\"top\" class=\"votelinks\"><center><a id='up_33523736'href='vote?id=33523736&amp;how=up&amp;goto=news'><div class='votearrow' title='upvote'></div></a></center></td><td class=\"title\"><span class=\"titleline\"><a href=\"https://phys.org/news/2022-11-discovery-bronzes-rewrites-italy-etruscan-roman.html\">Discovery of bronzes rewrites Italy's Etruscan-Roman history</a><span class=\"sitebit comhead\"> (<a href=\"from?site=phys.org\"><span class=\"sitestr\">phys.org</span></a>)</span></span></td></tr><tr><td colspan=\"2\"></td><td class=\"subtext\"><span class=\"subline\">\n",
      "          <span class=\"score\" id=\"score_33523736\">71 points</span> by <a href=\"user?id=benbreen\" class=\"hnuser\">benbreen</a> <span class=\"age\" title=\"2022-11-08T20:18:27\"><a href=\"item?id=33523736\">9 hours ago</a></span> <span id=\"unv_33523736\"></span> | <a href=\"hide?id=33523736&amp;goto=news\">hide</a> | <a href=\"item?id=33523736\">23&nbsp;comments</a>        </span>\n",
      "              </td></tr>\n",
      "      <tr class=\"spacer\" style=\"height:5px\"></tr>\n",
      "                <tr class='athing' id='33536978'>\n",
      "      <td align=\"right\" valign=\"top\" class=\"title\"><span class=\"rank\">29.</span></td>      <td valign=\"top\" class=\"votelinks\"><center><a id='up_33536978'href='vote?id=33536978&amp;how=up&amp;goto=news'><div class='votearrow' title='upvote'></div></a></center></td><td class=\"title\"><span class=\"titleline\"><a href=\"https://podman-desktop.io\">Podman Desktop: A Free OSS Alternative to Docker Desktop</a><span class=\"sitebit comhead\"> (<a href=\"from?site=podman-desktop.io\"><span class=\"sitestr\">podman-desktop.io</span></a>)</span></span></td></tr><tr><td colspan=\"2\"></td><td class=\"subtext\"><span class=\"subline\">\n",
      "          <span class=\"score\" id=\"score_33536978\">735 points</span> by <a href=\"user?id=twelvenmonkeys\" class=\"hnuser\">twelvenmonkeys</a> <span class=\"age\" title=\"2022-11-09T19:55:40\"><a href=\"item?id=33536978\">19 hours ago</a></span> <span id=\"unv_33536978\"></span> | <a href=\"hide?id=33536978&amp;goto=news\">hide</a> | <a href=\"item?id=33536978\">175&nbsp;comments</a>        </span>\n",
      "              </td></tr>\n",
      "      <tr class=\"spacer\" style=\"height:5px\"></tr>\n",
      "                <tr class='athing' id='33540293'>\n",
      "      <td align=\"right\" valign=\"top\" class=\"title\"><span class=\"rank\">30.</span></td>      <td valign=\"top\" class=\"votelinks\"><center><a id='up_33540293'href='vote?id=33540293&amp;how=up&amp;goto=news'><div class='votearrow' title='upvote'></div></a></center></td><td class=\"title\"><span class=\"titleline\"><a href=\"https://kitze.io/posts/github-stars-wont-pay-your-rent\">GitHub stars won't pay your rent (2020)</a><span class=\"sitebit comhead\"> (<a href=\"from?site=kitze.io\"><span class=\"sitestr\">kitze.io</span></a>)</span></span></td></tr><tr><td colspan=\"2\"></td><td class=\"subtext\"><span class=\"subline\">\n",
      "          <span class=\"score\" id=\"score_33540293\">378 points</span> by <a href=\"user?id=satvikpendem\" class=\"hnuser\">satvikpendem</a> <span class=\"age\" title=\"2022-11-10T00:18:07\"><a href=\"item?id=33540293\">15 hours ago</a></span> <span id=\"unv_33540293\"></span> | <a href=\"hide?id=33540293&amp;goto=news\">hide</a> | <a href=\"item?id=33540293\">217&nbsp;comments</a>        </span>\n",
      "              </td></tr>\n",
      "      <tr class=\"spacer\" style=\"height:5px\"></tr>\n",
      "            <tr class=\"morespace\" style=\"height:10px\"></tr><tr><td colspan=\"2\"></td>\n",
      "      <td class='title'><a href='news?p=2' class='morelink' rel='next'>More</a></td>    </tr>\n",
      "  </table>\n",
      "</td></tr>\n",
      "<tr><td><img src=\"s.gif\" height=\"10\" width=\"0\"><table width=\"100%\" cellspacing=\"0\" cellpadding=\"1\"><tr><td bgcolor=\"#ff6600\"></td></tr></table><br><center><span class=\"yclinks\"><a href=\"newsguidelines.html\">Guidelines</a>\n",
      "        | <a href=\"newsfaq.html\">FAQ</a>\n",
      "        | <a href=\"lists\">Lists</a>\n",
      "        | <a href=\"https://github.com/HackerNews/API\">API</a>\n",
      "        | <a href=\"security.html\">Security</a>\n",
      "        | <a href=\"http://www.ycombinator.com/legal/\">Legal</a>\n",
      "        | <a href=\"http://www.ycombinator.com/apply/\">Apply to YC</a>\n",
      "        | <a href=\"mailto:hn@ycombinator.com\">Contact</a></span><br><br><form method=\"get\" action=\"//hn.algolia.com/\">Search:\n",
      "          <input type=\"text\" name=\"q\" value=\"\" size=\"17\" autocorrect=\"off\" spellcheck=\"false\" autocapitalize=\"off\" autocomplete=\"false\"></form>\n",
      "            </center></td></tr>\n",
      "      </table></center></body>\n",
      "      <script type='text/javascript' src='hn.js?lFptM7dDr42IpbRL3a4e'></script>\n",
      "  </html>\n",
      "\n"
     ]
    }
   ],
   "source": [
    "import requests\n",
    "\n",
    "# Fetch a web page\n",
    "r = requests.get(\"https://news.ycombinator.com\")\n",
    "print(r.text)"
   ]
  },
  {
   "cell_type": "code",
   "execution_count": 5,
   "metadata": {},
   "outputs": [
    {
     "name": "stdout",
     "output_type": "stream",
     "text": [
      "\n",
      "        \n",
      "          \n",
      "        Hacker News\n",
      "        \n",
      "                  Hacker News\n",
      "                            new | past | comments | ask | show | jobs | submit            \n",
      "                              login\n",
      "                          \n",
      "              \n",
      "\n",
      "              \n",
      "      1.      Accidental Google Pixel Lock Screen Bypass (xdavidhu.me)\n",
      "          632 points by BXWPU 4 hours ago  | hide | 210&nbsp;comments        \n",
      "              \n",
      "      \n",
      "                \n",
      "      2.      US annual inflation declines to 7.7% in October vs. 7.9% expected (bls.gov)\n",
      "          183 points by ericliuche 1 hour ago  | hide | 206&nbsp;comments        \n",
      "              \n",
      "      \n",
      "                \n",
      "      3.      Oxford University Press’s new logo is unfathomably bad (joukovsky.substack.com)\n",
      "          28 points by vitabenes 1 hour ago  | hide | 20&nbsp;comments        \n",
      "              \n",
      "      \n",
      "                \n",
      "      4.      Why are clinical trials so expensive? Tales from the beast’s belly (milkyeggs.com)\n",
      "          72 points by wawayanda 3 hours ago  | hide | 19&nbsp;comments        \n",
      "              \n",
      "      \n",
      "                \n",
      "      5.      CVE-2022-45063: xterm code execution via font ops (openwall.com)\n",
      "          18 points by jwilk 1 hour ago  | hide | 4&nbsp;comments        \n",
      "              \n",
      "      \n",
      "                \n",
      "      6.      Python Asyncio: The Complete Guide (superfastpython.com)\n",
      "          8 points by simonpure 32 minutes ago  | hide | 2&nbsp;comments        \n",
      "              \n",
      "      \n",
      "                \n",
      "      7.      Only Solve One Problem at a Time (bennadel.com)\n",
      "          83 points by rmason 5 hours ago  | hide | 30&nbsp;comments        \n",
      "              \n",
      "      \n",
      "                \n",
      "      8.      The Sam Bankman-Fried empire crumbled. What happened? (part one) (mollywhite.net)\n",
      "          32 points by williamstein 46 minutes ago  | hide | 2&nbsp;comments        \n",
      "              \n",
      "      \n",
      "                \n",
      "      9.      Try TeXmacs in your Browser via WebAssembly (Mogan Fork of TeXmacs) (yufeng-shen.github.io)\n",
      "          50 points by amichail 3 hours ago  | hide | 14&nbsp;comments        \n",
      "              \n",
      "      \n",
      "                \n",
      "      10.      Silicon innovation and custom ASICs at Amazon [pdf] (mvdirona.com)\n",
      "          44 points by mad44 4 hours ago  | hide | 9&nbsp;comments        \n",
      "              \n",
      "      \n",
      "                \n",
      "      11.      Look out: Divergent representations are everywhere (trailofbits.com)\n",
      "          13 points by ingve 1 hour ago  | hide | 2&nbsp;comments        \n",
      "              \n",
      "      \n",
      "                \n",
      "      12.      Bad Professor: The Rise and Fall of John Donovan (townandcountrymag.com)\n",
      "          3 points by indigodaddy 19 minutes ago  | hide | discuss        \n",
      "              \n",
      "      \n",
      "                \n",
      "      13.      Kamion (YC S22) Is Hiring (ycombinator.com)\n",
      "        3 hours ago | hide      \n",
      "      \n",
      "                \n",
      "      14.      Indian ISPs: We already give govt full access to web traffic (entrackr.com)\n",
      "          210 points by instagraham 5 hours ago  | hide | 69&nbsp;comments        \n",
      "              \n",
      "      \n",
      "                \n",
      "      15.      Capsicum-rs: Rust bindings for the FreeBSD Capsicum framework (github.com/dlrobertson)\n",
      "          19 points by todsacerdoti 3 hours ago  | hide | 1&nbsp;comment        \n",
      "              \n",
      "      \n",
      "                \n",
      "      16.      The Anatomy of SaaS Pricing Strategy (2017) [pdf] (priceintelligently.com)\n",
      "          68 points by rfreytag 6 hours ago  | hide | 5&nbsp;comments        \n",
      "              \n",
      "      \n",
      "                \n",
      "      17.      Hey, GitHub – Use voice to write code (githubnext.com)\n",
      "          249 points by rcshubhadeep 6 hours ago  | hide | 215&nbsp;comments        \n",
      "              \n",
      "      \n",
      "                \n",
      "      18.      Why Everything Looks the Same (medium.com/knowable)\n",
      "          122 points by champagnepapi 7 hours ago  | hide | 126&nbsp;comments        \n",
      "              \n",
      "      \n",
      "                \n",
      "      19.      I Learned to Stop Worrying and Love Uncertainty (nautil.us)\n",
      "          11 points by nsoonhui 2 hours ago  | hide | 1&nbsp;comment        \n",
      "              \n",
      "      \n",
      "                \n",
      "      20.      Hash Codes, Non-Determinism, and Other Eldritch Horrors (verdagon.dev)\n",
      "          15 points by GarethX 3 hours ago  | hide | 2&nbsp;comments        \n",
      "              \n",
      "      \n",
      "                \n",
      "      21.      OpenEnergyMonitor – open-source monitoring for energy (openenergymonitor.org)\n",
      "          103 points by pabs3 11 hours ago  | hide | 23&nbsp;comments        \n",
      "              \n",
      "      \n",
      "                \n",
      "      22.      Stretch iPhone to its limit: 2GiB Stable Diffusion model runs locally on device (liuliu.me)\n",
      "          691 points by GrantS 16 hours ago  | hide | 150&nbsp;comments        \n",
      "              \n",
      "      \n",
      "                \n",
      "      23.      Ask HN: Where to Start with Android Custom ROM or AOSP Development?\n",
      "          32 points by sptth 3 hours ago  | hide | 13&nbsp;comments        \n",
      "              \n",
      "      \n",
      "                \n",
      "      24.      Append data to the url query (haxx.se)\n",
      "          39 points by soheilpro 2 hours ago  | hide | 15&nbsp;comments        \n",
      "              \n",
      "      \n",
      "                \n",
      "      25.      The Death of a Statesman (ez.substack.com)\n",
      "          16 points by cribbles 3 hours ago  | hide | 3&nbsp;comments        \n",
      "              \n",
      "      \n",
      "                \n",
      "      26.      Cameras on phones? (2001) [video] (youtube.com)\n",
      "          112 points by vanilla-almond 12 hours ago  | hide | 65&nbsp;comments        \n",
      "              \n",
      "      \n",
      "                \n",
      "      27.      Mouse-level evasion performance using real-time computational planning (arxiv.org)\n",
      "          4 points by PaulHoule 1 hour ago  | hide | discuss        \n",
      "              \n",
      "      \n",
      "                \n",
      "      28.      Discovery of bronzes rewrites Italy's Etruscan-Roman history (phys.org)\n",
      "          71 points by benbreen 9 hours ago  | hide | 23&nbsp;comments        \n",
      "              \n",
      "      \n",
      "                \n",
      "      29.      Podman Desktop: A Free OSS Alternative to Docker Desktop (podman-desktop.io)\n",
      "          735 points by twelvenmonkeys 19 hours ago  | hide | 175&nbsp;comments        \n",
      "              \n",
      "      \n",
      "                \n",
      "      30.      GitHub stars won't pay your rent (2020) (kitze.io)\n",
      "          378 points by satvikpendem 15 hours ago  | hide | 217&nbsp;comments        \n",
      "              \n",
      "      \n",
      "            \n",
      "      More    \n",
      "  \n",
      "\n",
      "Guidelines\n",
      "        | FAQ\n",
      "        | Lists\n",
      "        | API\n",
      "        | Security\n",
      "        | Legal\n",
      "        | Apply to YC\n",
      "        | ContactSearch:\n",
      "          \n",
      "            \n",
      "      \n",
      "      \n",
      "  \n",
      "\n"
     ]
    }
   ],
   "source": [
    "import re\n",
    "\n",
    "# Remove HTML tags using RegEx\n",
    "pattern = re.compile(r'<.*?>')  # tags look like <...>\n",
    "print(pattern.sub('', r.text))  # replace them with blank"
   ]
  },
  {
   "cell_type": "code",
   "execution_count": 6,
   "metadata": {},
   "outputs": [
    {
     "name": "stdout",
     "output_type": "stream",
     "text": [
      "\n",
      "        \n",
      "          \n",
      "        Hacker News\n",
      "        \n",
      "                  Hacker News\n",
      "                            new | past | comments | ask | show | jobs | submit            \n",
      "                              login\n",
      "                          \n",
      "              \n",
      "\n",
      "              \n",
      "      1.      Accidental Google Pixel Lock Screen Bypass (xdavidhu.me)\n",
      "          632 points by BXWPU 4 hours ago  | hide | 210 comments        \n",
      "              \n",
      "      \n",
      "                \n",
      "      2.      US annual inflation declines to 7.7% in October vs. 7.9% expected (bls.gov)\n",
      "          183 points by ericliuche 1 hour ago  | hide | 206 comments        \n",
      "              \n",
      "      \n",
      "                \n",
      "      3.      Oxford University Press’s new logo is unfathomably bad (joukovsky.substack.com)\n",
      "          28 points by vitabenes 1 hour ago  | hide | 20 comments        \n",
      "              \n",
      "      \n",
      "                \n",
      "      4.      Why are clinical trials so expensive? Tales from the beast’s belly (milkyeggs.com)\n",
      "          72 points by wawayanda 3 hours ago  | hide | 19 comments        \n",
      "              \n",
      "      \n",
      "                \n",
      "      5.      CVE-2022-45063: xterm code execution via font ops (openwall.com)\n",
      "          18 points by jwilk 1 hour ago  | hide | 4 comments        \n",
      "              \n",
      "      \n",
      "                \n",
      "      6.      Python Asyncio: The Complete Guide (superfastpython.com)\n",
      "          8 points by simonpure 32 minutes ago  | hide | 2 comments        \n",
      "              \n",
      "      \n",
      "                \n",
      "      7.      Only Solve One Problem at a Time (bennadel.com)\n",
      "          83 points by rmason 5 hours ago  | hide | 30 comments        \n",
      "              \n",
      "      \n",
      "                \n",
      "      8.      The Sam Bankman-Fried empire crumbled. What happened? (part one) (mollywhite.net)\n",
      "          32 points by williamstein 46 minutes ago  | hide | 2 comments        \n",
      "              \n",
      "      \n",
      "                \n",
      "      9.      Try TeXmacs in your Browser via WebAssembly (Mogan Fork of TeXmacs) (yufeng-shen.github.io)\n",
      "          50 points by amichail 3 hours ago  | hide | 14 comments        \n",
      "              \n",
      "      \n",
      "                \n",
      "      10.      Silicon innovation and custom ASICs at Amazon [pdf] (mvdirona.com)\n",
      "          44 points by mad44 4 hours ago  | hide | 9 comments        \n",
      "              \n",
      "      \n",
      "                \n",
      "      11.      Look out: Divergent representations are everywhere (trailofbits.com)\n",
      "          13 points by ingve 1 hour ago  | hide | 2 comments        \n",
      "              \n",
      "      \n",
      "                \n",
      "      12.      Bad Professor: The Rise and Fall of John Donovan (townandcountrymag.com)\n",
      "          3 points by indigodaddy 19 minutes ago  | hide | discuss        \n",
      "              \n",
      "      \n",
      "                \n",
      "      13.      Kamion (YC S22) Is Hiring (ycombinator.com)\n",
      "        3 hours ago | hide      \n",
      "      \n",
      "                \n",
      "      14.      Indian ISPs: We already give govt full access to web traffic (entrackr.com)\n",
      "          210 points by instagraham 5 hours ago  | hide | 69 comments        \n",
      "              \n",
      "      \n",
      "                \n",
      "      15.      Capsicum-rs: Rust bindings for the FreeBSD Capsicum framework (github.com/dlrobertson)\n",
      "          19 points by todsacerdoti 3 hours ago  | hide | 1 comment        \n",
      "              \n",
      "      \n",
      "                \n",
      "      16.      The Anatomy of SaaS Pricing Strategy (2017) [pdf] (priceintelligently.com)\n",
      "          68 points by rfreytag 6 hours ago  | hide | 5 comments        \n",
      "              \n",
      "      \n",
      "                \n",
      "      17.      Hey, GitHub – Use voice to write code (githubnext.com)\n",
      "          249 points by rcshubhadeep 6 hours ago  | hide | 215 comments        \n",
      "              \n",
      "      \n",
      "                \n",
      "      18.      Why Everything Looks the Same (medium.com/knowable)\n",
      "          122 points by champagnepapi 7 hours ago  | hide | 126 comments        \n",
      "              \n",
      "      \n",
      "                \n",
      "      19.      I Learned to Stop Worrying and Love Uncertainty (nautil.us)\n",
      "          11 points by nsoonhui 2 hours ago  | hide | 1 comment        \n",
      "              \n",
      "      \n",
      "                \n",
      "      20.      Hash Codes, Non-Determinism, and Other Eldritch Horrors (verdagon.dev)\n",
      "          15 points by GarethX 3 hours ago  | hide | 2 comments        \n",
      "              \n",
      "      \n",
      "                \n",
      "      21.      OpenEnergyMonitor – open-source monitoring for energy (openenergymonitor.org)\n",
      "          103 points by pabs3 11 hours ago  | hide | 23 comments        \n",
      "              \n",
      "      \n",
      "                \n",
      "      22.      Stretch iPhone to its limit: 2GiB Stable Diffusion model runs locally on device (liuliu.me)\n",
      "          691 points by GrantS 16 hours ago  | hide | 150 comments        \n",
      "              \n",
      "      \n",
      "                \n",
      "      23.      Ask HN: Where to Start with Android Custom ROM or AOSP Development?\n",
      "          32 points by sptth 3 hours ago  | hide | 13 comments        \n",
      "              \n",
      "      \n",
      "                \n",
      "      24.      Append data to the url query (haxx.se)\n",
      "          39 points by soheilpro 2 hours ago  | hide | 15 comments        \n",
      "              \n",
      "      \n",
      "                \n",
      "      25.      The Death of a Statesman (ez.substack.com)\n",
      "          16 points by cribbles 3 hours ago  | hide | 3 comments        \n",
      "              \n",
      "      \n",
      "                \n",
      "      26.      Cameras on phones? (2001) [video] (youtube.com)\n",
      "          112 points by vanilla-almond 12 hours ago  | hide | 65 comments        \n",
      "              \n",
      "      \n",
      "                \n",
      "      27.      Mouse-level evasion performance using real-time computational planning (arxiv.org)\n",
      "          4 points by PaulHoule 1 hour ago  | hide | discuss        \n",
      "              \n",
      "      \n",
      "                \n",
      "      28.      Discovery of bronzes rewrites Italy's Etruscan-Roman history (phys.org)\n",
      "          71 points by benbreen 9 hours ago  | hide | 23 comments        \n",
      "              \n",
      "      \n",
      "                \n",
      "      29.      Podman Desktop: A Free OSS Alternative to Docker Desktop (podman-desktop.io)\n",
      "          735 points by twelvenmonkeys 19 hours ago  | hide | 175 comments        \n",
      "              \n",
      "      \n",
      "                \n",
      "      30.      GitHub stars won't pay your rent (2020) (kitze.io)\n",
      "          378 points by satvikpendem 15 hours ago  | hide | 217 comments        \n",
      "              \n",
      "      \n",
      "            \n",
      "      More    \n",
      "  \n",
      "\n",
      "Guidelines\n",
      "        | FAQ\n",
      "        | Lists\n",
      "        | API\n",
      "        | Security\n",
      "        | Legal\n",
      "        | Apply to YC\n",
      "        | ContactSearch:\n",
      "          \n",
      "            \n",
      "      \n",
      "      \n",
      "  \n",
      "\n"
     ]
    }
   ],
   "source": [
    "from bs4 import BeautifulSoup\n",
    "\n",
    "# Remove HTML tags using Beautiful Soup library\n",
    "soup = BeautifulSoup(r.text, \"html5lib\")\n",
    "print(soup.get_text())"
   ]
  },
  {
   "cell_type": "code",
   "execution_count": 7,
   "metadata": {
    "scrolled": true
   },
   "outputs": [
    {
     "data": {
      "text/plain": [
       "<tr class=\"athing\" id=\"33544883\">\n",
       "      <td align=\"right\" class=\"title\" valign=\"top\"><span class=\"rank\">1.</span></td>      <td class=\"votelinks\" valign=\"top\"><center><a href=\"vote?id=33544883&amp;how=up&amp;goto=news\" id=\"up_33544883\"><div class=\"votearrow\" title=\"upvote\"></div></a></center></td><td class=\"title\"><span class=\"titleline\"><a href=\"https://bugs.xdavidhu.me/google/2022/11/10/accidental-70k-google-pixel-lock-screen-bypass/\">Accidental Google Pixel Lock Screen Bypass</a><span class=\"sitebit comhead\"> (<a href=\"from?site=xdavidhu.me\"><span class=\"sitestr\">xdavidhu.me</span></a>)</span></span></td></tr>"
      ]
     },
     "execution_count": 7,
     "metadata": {},
     "output_type": "execute_result"
    }
   ],
   "source": [
    "# Find all articles\n",
    "summaries = soup.find_all(\"tr\", class_=\"athing\")\n",
    "summaries[0]"
   ]
  },
  {
   "cell_type": "code",
   "execution_count": 18,
   "metadata": {},
   "outputs": [
    {
     "data": {
      "text/plain": [
       "'Accidental Google Pixel Lock Screen Bypass'"
      ]
     },
     "execution_count": 18,
     "metadata": {},
     "output_type": "execute_result"
    }
   ],
   "source": [
    "# Extract title\n",
    "summaries[0].select(\"td.title span a\")[0].get_text().strip()"
   ]
  },
  {
   "cell_type": "code",
   "execution_count": 20,
   "metadata": {},
   "outputs": [
    {
     "name": "stdout",
     "output_type": "stream",
     "text": [
      "30 Article summaries found. Sample:\n",
      "Accidental Google Pixel Lock Screen Bypass\n"
     ]
    }
   ],
   "source": [
    "# Find all articles, extract titles\n",
    "articles = []\n",
    "summaries = soup.find_all(\"tr\", class_=\"athing\")\n",
    "for summary in summaries:\n",
    "    title = summary.select(\"td.title span a\")[0].get_text().strip()\n",
    "    articles.append((title))\n",
    "\n",
    "print(len(articles), \"Article summaries found. Sample:\")\n",
    "print(articles[0])"
   ]
  },
  {
   "cell_type": "markdown",
   "metadata": {
    "collapsed": true
   },
   "source": [
    "## Normalization"
   ]
  },
  {
   "cell_type": "markdown",
   "metadata": {},
   "source": [
    "### Case Normalization"
   ]
  },
  {
   "cell_type": "code",
   "execution_count": 21,
   "metadata": {},
   "outputs": [
    {
     "name": "stdout",
     "output_type": "stream",
     "text": [
      "The first time you see The Second Renaissance it may look boring. Look at it at least twice and definitely watch part 2. It will change your view of the matrix. Are the human people the ones who started the war ? Is AI a bad thing ?\n"
     ]
    }
   ],
   "source": [
    "# Sample text\n",
    "text = \"The first time you see The Second Renaissance it may look boring. Look at it at least twice and definitely watch part 2. It will change your view of the matrix. Are the human people the ones who started the war ? Is AI a bad thing ?\"\n",
    "print(text)"
   ]
  },
  {
   "cell_type": "code",
   "execution_count": 22,
   "metadata": {},
   "outputs": [
    {
     "name": "stdout",
     "output_type": "stream",
     "text": [
      "the first time you see the second renaissance it may look boring. look at it at least twice and definitely watch part 2. it will change your view of the matrix. are the human people the ones who started the war ? is ai a bad thing ?\n"
     ]
    }
   ],
   "source": [
    "# Convert to lowercase\n",
    "text = text.lower() \n",
    "print(text)"
   ]
  },
  {
   "cell_type": "markdown",
   "metadata": {},
   "source": [
    "### Punctuation Removal"
   ]
  },
  {
   "cell_type": "code",
   "execution_count": null,
   "metadata": {},
   "outputs": [],
   "source": [
    "import re\n",
    "\n",
    "# Remove punctuation characters\n",
    "text = re.sub(r\"[^a-zA-Z0-9]\", \" \", text) \n",
    "print(text)"
   ]
  },
  {
   "cell_type": "markdown",
   "metadata": {},
   "source": [
    "## Tokenization"
   ]
  },
  {
   "cell_type": "code",
   "execution_count": 24,
   "metadata": {},
   "outputs": [
    {
     "name": "stdout",
     "output_type": "stream",
     "text": [
      "['the', 'first', 'time', 'you', 'see', 'the', 'second', 'renaissance', 'it', 'may', 'look', 'boring', 'look', 'at', 'it', 'at', 'least', 'twice', 'and', 'definitely', 'watch', 'part', '2', 'it', 'will', 'change', 'your', 'view', 'of', 'the', 'matrix', 'are', 'the', 'human', 'people', 'the', 'ones', 'who', 'started', 'the', 'war', 'is', 'ai', 'a', 'bad', 'thing']\n"
     ]
    }
   ],
   "source": [
    "# Split text into tokens (words)\n",
    "words = text.split()\n",
    "print(words)"
   ]
  },
  {
   "cell_type": "markdown",
   "metadata": {},
   "source": [
    "### NLTK: Natural Language ToolKit"
   ]
  },
  {
   "cell_type": "code",
   "execution_count": 25,
   "metadata": {},
   "outputs": [],
   "source": [
    "import os\n",
    "import nltk\n",
    "nltk.data.path.append(os.path.join(os.getcwd(), \"nltk_data\"))"
   ]
  },
  {
   "cell_type": "code",
   "execution_count": 26,
   "metadata": {},
   "outputs": [
    {
     "name": "stdout",
     "output_type": "stream",
     "text": [
      "Dr. Smith graduated from the University of Washington. He later started an analytics firm called Lux, which catered to enterprise customers.\n"
     ]
    }
   ],
   "source": [
    "# Another sample text\n",
    "text = \"Dr. Smith graduated from the University of Washington. He later started an analytics firm called Lux, which catered to enterprise customers.\"\n",
    "print(text)"
   ]
  },
  {
   "cell_type": "code",
   "execution_count": 29,
   "metadata": {},
   "outputs": [
    {
     "name": "stdout",
     "output_type": "stream",
     "text": [
      "['Dr.', 'Smith', 'graduated', 'from', 'the', 'University', 'of', 'Washington', '.', 'He', 'later', 'started', 'an', 'analytics', 'firm', 'called', 'Lux', ',', 'which', 'catered', 'to', 'enterprise', 'customers', '.']\n"
     ]
    }
   ],
   "source": [
    "from nltk.tokenize import word_tokenize\n",
    "\n",
    "# Split text into words using NLTK\n",
    "words = word_tokenize(text)\n",
    "print(words)"
   ]
  },
  {
   "cell_type": "code",
   "execution_count": 30,
   "metadata": {},
   "outputs": [
    {
     "name": "stdout",
     "output_type": "stream",
     "text": [
      "['Dr. Smith graduated from the University of Washington.', 'He later started an analytics firm called Lux, which catered to enterprise customers.']\n"
     ]
    }
   ],
   "source": [
    "from nltk.tokenize import sent_tokenize\n",
    "\n",
    "# Split text into sentences\n",
    "sentences = sent_tokenize(text)\n",
    "print(sentences)"
   ]
  },
  {
   "cell_type": "code",
   "execution_count": 31,
   "metadata": {},
   "outputs": [
    {
     "name": "stdout",
     "output_type": "stream",
     "text": [
      "['i', 'me', 'my', 'myself', 'we', 'our', 'ours', 'ourselves', 'you', \"you're\", \"you've\", \"you'll\", \"you'd\", 'your', 'yours', 'yourself', 'yourselves', 'he', 'him', 'his', 'himself', 'she', \"she's\", 'her', 'hers', 'herself', 'it', \"it's\", 'its', 'itself', 'they', 'them', 'their', 'theirs', 'themselves', 'what', 'which', 'who', 'whom', 'this', 'that', \"that'll\", 'these', 'those', 'am', 'is', 'are', 'was', 'were', 'be', 'been', 'being', 'have', 'has', 'had', 'having', 'do', 'does', 'did', 'doing', 'a', 'an', 'the', 'and', 'but', 'if', 'or', 'because', 'as', 'until', 'while', 'of', 'at', 'by', 'for', 'with', 'about', 'against', 'between', 'into', 'through', 'during', 'before', 'after', 'above', 'below', 'to', 'from', 'up', 'down', 'in', 'out', 'on', 'off', 'over', 'under', 'again', 'further', 'then', 'once', 'here', 'there', 'when', 'where', 'why', 'how', 'all', 'any', 'both', 'each', 'few', 'more', 'most', 'other', 'some', 'such', 'no', 'nor', 'not', 'only', 'own', 'same', 'so', 'than', 'too', 'very', 's', 't', 'can', 'will', 'just', 'don', \"don't\", 'should', \"should've\", 'now', 'd', 'll', 'm', 'o', 're', 've', 'y', 'ain', 'aren', \"aren't\", 'couldn', \"couldn't\", 'didn', \"didn't\", 'doesn', \"doesn't\", 'hadn', \"hadn't\", 'hasn', \"hasn't\", 'haven', \"haven't\", 'isn', \"isn't\", 'ma', 'mightn', \"mightn't\", 'mustn', \"mustn't\", 'needn', \"needn't\", 'shan', \"shan't\", 'shouldn', \"shouldn't\", 'wasn', \"wasn't\", 'weren', \"weren't\", 'won', \"won't\", 'wouldn', \"wouldn't\"]\n"
     ]
    }
   ],
   "source": [
    "# List stop words\n",
    "from nltk.corpus import stopwords\n",
    "print(stopwords.words(\"english\"))"
   ]
  },
  {
   "cell_type": "code",
   "execution_count": 32,
   "metadata": {},
   "outputs": [
    {
     "name": "stdout",
     "output_type": "stream",
     "text": [
      "['the', 'first', 'time', 'you', 'see', 'the', 'second', 'renaissance', 'it', 'may', 'look', 'boring', 'look', 'at', 'it', 'at', 'least', 'twice', 'and', 'definitely', 'watch', 'part', '2', 'it', 'will', 'change', 'your', 'view', 'of', 'the', 'matrix', 'are', 'the', 'human', 'people', 'the', 'ones', 'who', 'started', 'the', 'war', 'is', 'ai', 'a', 'bad', 'thing']\n"
     ]
    }
   ],
   "source": [
    "# Reset text\n",
    "text = \"The first time you see The Second Renaissance it may look boring. Look at it at least twice and definitely watch part 2. It will change your view of the matrix. Are the human people the ones who started the war ? Is AI a bad thing ?\"\n",
    "\n",
    "# Normalize it\n",
    "text = re.sub(r\"[^a-zA-Z0-9]\", \" \", text.lower())\n",
    "\n",
    "# Tokenize it\n",
    "words = text.split()\n",
    "print(words)"
   ]
  },
  {
   "cell_type": "code",
   "execution_count": 33,
   "metadata": {},
   "outputs": [
    {
     "name": "stdout",
     "output_type": "stream",
     "text": [
      "['first', 'time', 'see', 'second', 'renaissance', 'may', 'look', 'boring', 'look', 'least', 'twice', 'definitely', 'watch', 'part', '2', 'change', 'view', 'matrix', 'human', 'people', 'ones', 'started', 'war', 'ai', 'bad', 'thing']\n"
     ]
    }
   ],
   "source": [
    "# Remove stop words\n",
    "words = [w for w in words if w not in stopwords.words(\"english\")]\n",
    "print(words)"
   ]
  },
  {
   "cell_type": "markdown",
   "metadata": {},
   "source": [
    "## Part of Speech Tagging/ Sentence Parsing"
   ]
  },
  {
   "cell_type": "code",
   "execution_count": 35,
   "metadata": {},
   "outputs": [
    {
     "name": "stdout",
     "output_type": "stream",
     "text": [
      "(S\n",
      "  (NP I)\n",
      "  (VP\n",
      "    (VP (V shot) (NP (Det an) (N elephant)))\n",
      "    (PP (P in) (NP (Det my) (N pajamas)))))\n",
      "(S\n",
      "  (NP I)\n",
      "  (VP\n",
      "    (V shot)\n",
      "    (NP (Det an) (N elephant) (PP (P in) (NP (Det my) (N pajamas))))))\n"
     ]
    }
   ],
   "source": [
    "import nltk\n",
    "\n",
    "# Define a custom grammar\n",
    "my_grammar = nltk.CFG.fromstring(\"\"\"\n",
    "S -> NP VP\n",
    "PP -> P NP\n",
    "NP -> Det N | Det N PP | 'I'\n",
    "VP -> V NP | VP PP\n",
    "Det -> 'an' | 'my'\n",
    "N -> 'elephant' | 'pajamas'\n",
    "V -> 'shot'\n",
    "P -> 'in'\n",
    "\"\"\")\n",
    "parser = nltk.ChartParser(my_grammar)\n",
    "\n",
    "# Parse a sentence\n",
    "sentence = word_tokenize(\"I shot an elephant in my pajamas\")\n",
    "for tree in parser.parse(sentence):\n",
    "    print(tree)"
   ]
  },
  {
   "cell_type": "markdown",
   "metadata": {},
   "source": [
    "## Stemming & Lemmatization\n",
    "\n",
    "### Stemming"
   ]
  },
  {
   "cell_type": "code",
   "execution_count": 36,
   "metadata": {},
   "outputs": [
    {
     "name": "stdout",
     "output_type": "stream",
     "text": [
      "['first', 'time', 'see', 'second', 'renaiss', 'may', 'look', 'bore', 'look', 'least', 'twice', 'definit', 'watch', 'part', '2', 'chang', 'view', 'matrix', 'human', 'peopl', 'one', 'start', 'war', 'ai', 'bad', 'thing']\n"
     ]
    }
   ],
   "source": [
    "from nltk.stem.porter import PorterStemmer\n",
    "\n",
    "# Reduce words to their stems\n",
    "stemmed = [PorterStemmer().stem(w) for w in words]\n",
    "print(stemmed)"
   ]
  },
  {
   "cell_type": "markdown",
   "metadata": {},
   "source": [
    "### Lemmatization"
   ]
  },
  {
   "cell_type": "code",
   "execution_count": 37,
   "metadata": {},
   "outputs": [
    {
     "name": "stdout",
     "output_type": "stream",
     "text": [
      "['first', 'time', 'see', 'second', 'renaissance', 'may', 'look', 'boring', 'look', 'least', 'twice', 'definitely', 'watch', 'part', '2', 'change', 'view', 'matrix', 'human', 'people', 'one', 'started', 'war', 'ai', 'bad', 'thing']\n"
     ]
    }
   ],
   "source": [
    "from nltk.stem.wordnet import WordNetLemmatizer\n",
    "\n",
    "# Reduce words to their root form\n",
    "lemmed = [WordNetLemmatizer().lemmatize(w) for w in words]\n",
    "print(lemmed)"
   ]
  },
  {
   "cell_type": "code",
   "execution_count": 38,
   "metadata": {},
   "outputs": [
    {
     "name": "stdout",
     "output_type": "stream",
     "text": [
      "['first', 'time', 'see', 'second', 'renaissance', 'may', 'look', 'bore', 'look', 'least', 'twice', 'definitely', 'watch', 'part', '2', 'change', 'view', 'matrix', 'human', 'people', 'one', 'start', 'war', 'ai', 'bad', 'thing']\n"
     ]
    }
   ],
   "source": [
    "# Lemmatize verbs by specifying pos\n",
    "lemmed = [WordNetLemmatizer().lemmatize(w, pos='v') for w in lemmed]\n",
    "print(lemmed)"
   ]
  },
  {
   "cell_type": "code",
   "execution_count": null,
   "metadata": {},
   "outputs": [],
   "source": []
  }
 ],
 "metadata": {
  "kernelspec": {
   "display_name": "Python 3",
   "language": "python",
   "name": "python3"
  },
  "language_info": {
   "codemirror_mode": {
    "name": "ipython",
    "version": 3
   },
   "file_extension": ".py",
   "mimetype": "text/x-python",
   "name": "python",
   "nbconvert_exporter": "python",
   "pygments_lexer": "ipython3",
   "version": "3.6.3"
  }
 },
 "nbformat": 4,
 "nbformat_minor": 2
}
