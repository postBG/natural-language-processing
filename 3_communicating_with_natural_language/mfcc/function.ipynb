{
 "cells": [
  {
   "cell_type": "code",
   "execution_count": null,
   "metadata": {
    "edited": true,
    "gradable": true,
    "grader_id": "ubdwbm49bib",
    "udacity_user_query": ""
   },
   "outputs": [],
   "source": [
    "from python_speech_features import mfcc\n",
    "import scipy.io.wavfile as wav\n",
    "import numpy as np\n",
    "import matplotlib.pyplot as plt\n",
    "import dutils\n",
    "\n",
    "\n",
    "def wav_to_mfcc(wav_filename, num_cepstrum):\n",
    "    \"\"\" extract MFCC features from a wav file\n",
    "\n",
    "    :param wav_filename: filename with .wav format\n",
    "    :param num_cepstrum: number of cepstrum to return\n",
    "    :return: MFCC features for wav file\n",
    "    \"\"\"\n",
    "    rate, sig = wav.read(wav_filename)\n",
    "    mfcc_features = mfcc(sig, rate, numcep=num_cepstrum)\n",
    "    return mfcc_features\n",
    "\n",
    "# Uncomment the code below to test your function\n",
    "test_rate, test_sig = wav.read('sample_01.wav')\n",
    "print(\"Audio file and MFCC extraction:\")\n",
    "dutils.plot_raw_audio(test_sig)\n",
    "mfcc_sig = wav_to_mfcc('sample_01.wav', 13)\n",
    "dutils.plot_mfcc_feature(mfcc_sig)"
   ]
  },
  {
   "cell_type": "code",
   "execution_count": null,
   "metadata": {
    "grader_id": "4krir32qc3e"
   },
   "outputs": [],
   "source": []
  }
 ],
 "metadata": {
  "grader_mode": "",
  "kernelspec": {
   "display_name": "Python 3",
   "language": "python",
   "name": "python3"
  },
  "language_info": {
   "codemirror_mode": {
    "name": "ipython",
    "version": 3
   },
   "file_extension": ".py",
   "mimetype": "text/x-python",
   "name": "python",
   "nbconvert_exporter": "python",
   "pygments_lexer": "ipython3",
   "version": "3.6.3"
  },
  "showGradeBtn": true
 },
 "nbformat": 4,
 "nbformat_minor": 2
}
