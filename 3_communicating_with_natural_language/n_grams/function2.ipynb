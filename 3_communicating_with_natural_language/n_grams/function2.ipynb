{
 "cells": [
  {
   "cell_type": "code",
   "execution_count": 1,
   "metadata": {
    "edited": true,
    "gradable": true,
    "grader_id": "mkaieb7zuia",
    "udacity_user_query": ""
   },
   "outputs": [
    {
     "name": "stdout",
     "output_type": "stream",
     "text": [
      "Probability bigram dictionary:\n",
      "{'<unk>': 0.0, ('<s>', 'go'): 0.034482758620689655, ('go', 'do'): 0.5, ('do', 'you'): 0.625, ('you', 'hear'): 0.058823529411764705, ('hear', '</s>'): 1.0, ('<s>', 'but'): 0.10344827586206896, ('but', 'in'): 0.2, ('in', 'less'): 0.1111111111111111, ('less', 'than'): 1.0, ('than', 'five'): 0.5, ('five', 'minutes'): 1.0, ('minutes', 'the'): 1.0, ('the', 'staircase'): 0.025, ('staircase', 'groaned'): 1.0, ('groaned', 'beneath'): 1.0, ('beneath', 'an'): 1.0, ('an', 'extraordinary'): 0.5, ('extraordinary', 'weight'): 1.0, ('weight', '</s>'): 1.0, ('<s>', 'at'): 0.034482758620689655, ('at', 'this'): 1.0, ('this', 'moment'): 0.16666666666666666, ('moment', 'the'): 1.0, ('the', 'whole'): 0.025, ('whole', 'soul'): 1.0, ('soul', 'of'): 1.0, ('of', 'the'): 0.3, ('the', 'old'): 0.1, ('old', 'man'): 0.75, ('man', 'seemed'): 0.2, ('seemed', 'centred'): 1.0, ('centred', 'in'): 1.0, ('in', 'his'): 0.1111111111111111, ('his', 'eyes'): 0.14285714285714285, ('eyes', 'which'): 0.5, ('which', 'became'): 0.2, ('became', 'bloodshot'): 0.5, ('bloodshot', 'the'): 1.0, ('the', 'veins'): 0.025, ('veins', 'of'): 1.0, ('the', 'throat'): 0.025, ('throat', 'swelled'): 1.0, ('swelled', 'his'): 1.0, ('his', 'cheeks'): 0.2857142857142857, ('cheeks', 'and'): 0.5, ('and', 'temples'): 0.07692307692307693, ('temples', 'became'): 1.0, ('became', 'purple'): 0.5, ('purple', 'as'): 1.0, ('as', 'though'): 0.125, ('though', 'he'): 1.0, ('he', 'was'): 0.25, ('was', 'struck'): 0.14285714285714285, ('struck', 'with'): 1.0, ('with', 'epilepsy'): 0.25, ('epilepsy', 'nothing'): 1.0, ('nothing', 'was'): 1.0, ('was', 'wanting'): 0.14285714285714285, ('wanting', 'to'): 1.0, ('to', 'complete'): 0.07692307692307693, ('complete', 'this'): 1.0, ('this', 'but'): 0.16666666666666666, ('but', 'the'): 0.2, ('the', 'utterance'): 0.025, ('utterance', 'of'): 1.0, ('of', 'a'): 0.2, ('a', 'cry'): 0.2857142857142857, ('cry', '</s>'): 0.3333333333333333, ('<s>', 'and'): 0.034482758620689655, ('and', 'the'): 0.07692307692307693, ('the', 'cry'): 0.025, ('cry', 'issued'): 0.3333333333333333, ('issued', 'from'): 1.0, ('from', 'his'): 1.0, ('his', 'pores'): 0.14285714285714285, ('pores', 'if'): 1.0, ('if', 'we'): 1.0, ('we', 'may'): 0.5, ('may', 'thus'): 1.0, ('thus', 'speak'): 0.5, ('speak', 'a'): 1.0, ('cry', 'frightful'): 0.3333333333333333, ('frightful', 'in'): 1.0, ('in', 'its'): 0.1111111111111111, ('its', 'silence'): 1.0, ('silence', '</s>'): 1.0, ('<s>', 'davrigny'): 0.10344827586206896, ('davrigny', 'rushed'): 0.3333333333333333, ('rushed', 'towards'): 1.0, ('towards', 'the'): 0.5, ('man', 'and'): 0.2, ('and', 'made'): 0.07692307692307693, ('made', 'him'): 0.3333333333333333, ('him', 'inhale'): 0.16666666666666666, ('inhale', 'a'): 1.0, ('a', 'powerful'): 0.14285714285714285, ('powerful', 'restorative'): 1.0, ('restorative', '</s>'): 1.0, ('davrigny', 'unable'): 0.3333333333333333, ('unable', 'to'): 1.0, ('to', 'bear'): 0.07692307692307693, ('bear', 'the'): 1.0, ('the', 'sight'): 0.025, ('sight', 'of'): 1.0, ('of', 'this'): 0.1, ('this', 'touching'): 0.16666666666666666, ('touching', 'emotion'): 1.0, ('emotion', 'turned'): 1.0, ('turned', 'away'): 1.0, ('away', 'and'): 1.0, ('and', 'villefort'): 0.07692307692307693, ('villefort', 'without'): 0.3333333333333333, ('without', 'seeking'): 1.0, ('seeking', 'any'): 1.0, ('any', 'further'): 1.0, ('further', 'explanation'): 1.0, ('explanation', 'and'): 1.0, ('and', 'attracted'): 0.07692307692307693, ('attracted', 'towards'): 1.0, ('towards', 'him'): 0.25, ('him', 'by'): 0.16666666666666666, ('by', 'the'): 0.5, ('the', 'irresistible'): 0.025, ('irresistible', 'magnetism'): 1.0, ('magnetism', 'which'): 1.0, ('which', 'draws'): 0.2, ('draws', 'us'): 1.0, ('us', 'towards'): 1.0, ('towards', 'those'): 0.25, ('those', 'who'): 0.5, ('who', 'have'): 0.5, ('have', 'loved'): 1.0, ('loved', 'the'): 1.0, ('the', 'people'): 0.025, ('people', 'for'): 1.0, ('for', 'whom'): 0.3333333333333333, ('whom', 'we'): 1.0, ('we', 'mourn'): 0.5, ('mourn', 'extended'): 1.0, ('extended', 'his'): 1.0, ('his', 'hand'): 0.14285714285714285, ('hand', 'towards'): 1.0, ('the', 'young'): 0.025, ('young', 'man'): 1.0, ('man', '</s>'): 0.2, ('<s>', 'for'): 0.034482758620689655, ('for', 'some'): 0.3333333333333333, ('some', 'time'): 1.0, ('time', 'nothing'): 0.5, ('was', 'heard'): 0.14285714285714285, ('heard', 'in'): 1.0, ('in', 'that'): 0.1111111111111111, ('that', 'chamber'): 0.25, ('chamber', 'but'): 0.5, ('but', 'sobs'): 0.2, ('sobs', 'exclamations'): 1.0, ('exclamations', 'and'): 1.0, ('and', 'prayers'): 0.07692307692307693, ('prayers', '</s>'): 0.5, ('<s>', 'what'): 0.034482758620689655, ('what', 'do'): 1.0, ('you', 'mean'): 0.058823529411764705, ('mean', 'sir'): 1.0, ('sir', '</s>'): 0.3333333333333333, ('<s>', 'oh'): 0.034482758620689655, ('oh', 'you'): 1.0, ('you', 'rave'): 0.058823529411764705, ('rave', 'sir'): 0.5, ('sir', 'exclaimed'): 0.3333333333333333, ('exclaimed', 'villefort'): 1.0, ('villefort', 'in'): 0.3333333333333333, ('in', 'vain'): 0.1111111111111111, ('vain', 'endeavoring'): 1.0, ('endeavoring', 'to'): 1.0, ('to', 'escape'): 0.15384615384615385, ('escape', 'the'): 0.5, ('the', 'net'): 0.025, ('net', 'in'): 1.0, ('in', 'which'): 0.1111111111111111, ('which', 'he'): 0.2, ('was', 'taken'): 0.14285714285714285, ('taken', 'i'): 1.0, ('i', 'rave'): 0.1111111111111111, ('rave', '</s>'): 0.5, ('<s>', 'do'): 0.034482758620689655, ('you', 'know'): 0.058823529411764705, ('know', 'the'): 1.0, ('the', 'assassin'): 0.025, ('assassin', 'asked'): 1.0, ('asked', 'morrel'): 1.0, ('morrel', '</s>'): 0.2, ('<s>', 'noirtier'): 0.06896551724137931, ('noirtier', 'looked'): 0.25, ('looked', 'upon'): 1.0, ('upon', 'morrel'): 1.0, ('morrel', 'with'): 0.2, ('with', 'one'): 0.25, ('one', 'of'): 1.0, ('of', 'those'): 0.1, ('those', 'melancholy'): 0.5, ('melancholy', 'smiles'): 1.0, ('smiles', 'which'): 1.0, ('which', 'had'): 0.2, ('had', 'so'): 0.5, ('so', 'often'): 0.3333333333333333, ('often', 'made'): 1.0, ('made', 'valentine'): 0.3333333333333333, ('valentine', 'happy'): 1.0, ('happy', 'and'): 1.0, ('and', 'thus'): 0.07692307692307693, ('thus', 'fixed'): 0.5, ('fixed', 'his'): 0.5, ('his', 'attention'): 0.14285714285714285, ('attention', '</s>'): 1.0, ('<s>', 'said'): 0.034482758620689655, ('said', 'morrel'): 0.25, ('morrel', 'sadly'): 0.2, ('sadly', 'yes'): 1.0, ('yes', 'replied'): 0.3333333333333333, ('replied', 'noirtier'): 1.0, ('noirtier', '</s>'): 0.25, ('<s>', 'the'): 0.1724137931034483, ('old', 'mans'): 0.25, ('mans', 'eyes'): 1.0, ('eyes', 'remained'): 0.5, ('remained', 'fixed'): 1.0, ('fixed', 'on'): 0.5, ('on', 'the'): 0.6666666666666666, ('the', 'door'): 0.05, ('door', '</s>'): 0.3333333333333333, ('<s>', 'asked'): 0.034482758620689655, ('morrel', 'yes'): 0.2, ('yes', '</s>'): 0.6666666666666666, ('<s>', 'must'): 0.034482758620689655, ('must', 'i'): 1.0, ('i', 'leave'): 0.1111111111111111, ('leave', 'alone'): 1.0, ('alone', 'no'): 0.3333333333333333, ('no', '</s>'): 0.5, ('but', 'can'): 0.2, ('can', 'he'): 0.5, ('he', 'understand'): 0.125, ('understand', 'you'): 1.0, ('you', 'yes'): 0.058823529411764705, ('<s>', 'gentlemen'): 0.034482758620689655, ('gentlemen', 'he'): 1.0, ('he', 'said'): 0.125, ('said', 'in'): 0.25, ('in', 'a'): 0.1111111111111111, ('a', 'hoarse'): 0.14285714285714285, ('hoarse', 'voice'): 1.0, ('voice', 'give'): 1.0, ('give', 'me'): 1.0, ('me', 'your'): 0.3333333333333333, ('your', 'word'): 1.0, ('word', 'of'): 1.0, ('of', 'honor'): 0.1, ('honor', 'that'): 1.0, ('that', 'this'): 0.25, ('this', 'horrible'): 0.16666666666666666, ('horrible', 'secret'): 1.0, ('secret', 'shall'): 0.5, ('shall', 'forever'): 0.5, ('forever', 'remain'): 1.0, ('remain', 'buried'): 1.0, ('buried', 'amongst'): 1.0, ('amongst', 'ourselves'): 0.5, ('ourselves', 'the'): 1.0, ('the', 'two'): 0.05, ('two', 'men'): 0.5, ('men', 'drew'): 1.0, ('drew', 'back'): 1.0, ('back', '</s>'): 1.0, ('<s>', 'my'): 0.034482758620689655, ('my', 'father'): 0.6666666666666666, ('father', 'has'): 0.3333333333333333, ('has', 'revealed'): 1.0, ('revealed', 'the'): 1.0, ('the', 'culprits'): 0.025, ('culprits', 'name'): 1.0, ('name', 'my'): 1.0, ('father', 'thirsts'): 0.3333333333333333, ('thirsts', 'for'): 1.0, ('for', 'revenge'): 0.3333333333333333, ('revenge', 'as'): 1.0, ('as', 'much'): 0.125, ('much', 'as'): 1.0, ('as', 'you'): 0.25, ('you', 'do'): 0.058823529411764705, ('do', 'yet'): 0.125, ('yet', 'even'): 1.0, ('even', 'he'): 1.0, ('he', 'conjures'): 0.125, ('conjures', 'you'): 1.0, ('you', 'as'): 0.11764705882352941, ('as', 'i'): 0.25, ('i', 'do'): 0.2222222222222222, ('do', 'to'): 0.125, ('to', 'keep'): 0.07692307692307693, ('keep', 'this'): 1.0, ('this', 'secret'): 0.16666666666666666, ('secret', 'do'): 0.5, ('you', 'not'): 0.11764705882352941, ('not', 'father'): 0.25, ('father', '</s>'): 0.3333333333333333, ('<s>', 'morrel'): 0.034482758620689655, ('morrel', 'suffered'): 0.2, ('suffered', 'an'): 1.0, ('an', 'exclamation'): 0.5, ('exclamation', 'of'): 1.0, ('of', 'horror'): 0.1, ('horror', 'and'): 1.0, ('and', 'surprise'): 0.07692307692307693, ('surprise', 'to'): 1.0, ('escape', 'him'): 0.5, ('him', '</s>'): 0.3333333333333333, ('man', 'made'): 0.2, ('made', 'a'): 0.3333333333333333, ('a', 'sign'): 0.14285714285714285, ('sign', 'in'): 1.0, ('in', 'the'): 0.1111111111111111, ('the', 'affirmative'): 0.025, ('affirmative', '</s>'): 1.0, ('<s>', 'it'): 0.034482758620689655, ('it', 'was'): 1.0, ('was', 'something'): 0.14285714285714285, ('something', 'terrible'): 1.0, ('terrible', 'to'): 1.0, ('to', 'witness'): 0.07692307692307693, ('witness', 'the'): 1.0, ('the', 'silent'): 0.025, ('silent', 'agony'): 0.5, ('agony', 'the'): 1.0, ('the', 'mute'): 0.025, ('mute', 'despair'): 1.0, ('despair', 'of'): 1.0, ('of', 'noirtier'): 0.1, ('noirtier', 'whose'): 0.25, ('whose', 'tears'): 1.0, ('tears', 'silently'): 1.0, ('silently', 'rolled'): 1.0, ('rolled', 'down'): 1.0, ('down', 'his'): 1.0, ('cheeks', '</s>'): 0.5, ('but', 'he'): 0.2, ('he', 'stopped'): 0.125, ('stopped', 'on'): 1.0, ('the', 'landing'): 0.025, ('landing', 'he'): 1.0, ('he', 'had'): 0.125, ('had', 'not'): 0.5, ('not', 'the'): 0.25, ('the', 'courage'): 0.025, ('courage', 'to'): 1.0, ('to', 'again'): 0.07692307692307693, ('again', 'visit'): 1.0, ('visit', 'the'): 1.0, ('the', 'death'): 0.025, ('death', 'chamber'): 1.0, ('chamber', '</s>'): 0.5, ('two', 'doctors'): 0.5, ('doctors', 'therefore'): 1.0, ('therefore', 'entered'): 1.0, ('entered', 'the'): 1.0, ('the', 'room'): 0.025, ('room', 'alone'): 0.5, ('alone', '</s>'): 0.3333333333333333, ('noirtier', 'was'): 0.25, ('was', 'near'): 0.14285714285714285, ('near', 'the'): 1.0, ('the', 'bed'): 0.025, ('bed', 'pale'): 1.0, ('pale', 'motionless'): 1.0, ('motionless', 'and'): 1.0, ('and', 'silent'): 0.07692307692307693, ('silent', 'as'): 0.5, ('as', 'the'): 0.125, ('the', 'corpse'): 0.025, ('corpse', '</s>'): 1.0, ('the', 'district'): 0.05, ('district', 'doctor'): 1.0, ('doctor', 'approached'): 0.5, ('approached', 'with'): 1.0, ('with', 'the'): 0.25, ('the', 'indifference'): 0.025, ('indifference', 'of'): 1.0, ('a', 'man'): 0.14285714285714285, ('man', 'accustomed'): 0.2, ('accustomed', 'to'): 1.0, ('to', 'spend'): 0.07692307692307693, ('spend', 'half'): 1.0, ('half', 'his'): 1.0, ('his', 'time'): 0.14285714285714285, ('time', 'amongst'): 0.5, ('amongst', 'the'): 0.5, ('the', 'dead'): 0.025, ('dead', 'he'): 1.0, ('he', 'then'): 0.125, ('then', 'lifted'): 1.0, ('lifted', 'the'): 1.0, ('the', 'sheet'): 0.025, ('sheet', 'which'): 1.0, ('which', 'was'): 0.2, ('was', 'placed'): 0.14285714285714285, ('placed', 'over'): 1.0, ('over', 'the'): 1.0, ('the', 'face'): 0.025, ('face', 'and'): 1.0, ('and', 'just'): 0.07692307692307693, ('just', 'unclosed'): 1.0, ('unclosed', 'the'): 1.0, ('the', 'lips'): 0.025, ('lips', '</s>'): 1.0, ('the', 'nearest'): 0.025, ('nearest', 'said'): 1.0, ('said', 'the'): 0.25, ('doctor', 'is'): 0.5, ('is', 'a'): 0.5, ('a', 'good'): 0.14285714285714285, ('good', 'italian'): 1.0, ('italian', 'abbe'): 1.0, ('abbe', 'who'): 1.0, ('who', 'lives'): 0.5, ('lives', 'next'): 1.0, ('next', 'door'): 1.0, ('door', 'to'): 0.3333333333333333, ('to', 'you'): 0.07692307692307693, ('you', 'shall'): 0.058823529411764705, ('shall', 'i'): 0.5, ('i', 'call'): 0.1111111111111111, ('call', 'on'): 1.0, ('on', 'him'): 0.3333333333333333, ('him', 'as'): 0.16666666666666666, ('i', 'pass'): 0.1111111111111111, ('pass', '</s>'): 1.0, ('davrigny', 'said'): 0.3333333333333333, ('said', 'villefort'): 0.25, ('villefort', 'be'): 0.3333333333333333, ('be', 'so'): 0.3333333333333333, ('so', 'kind'): 0.3333333333333333, ('kind', 'i'): 1.0, ('i', 'beseech'): 0.1111111111111111, ('beseech', 'you'): 1.0, ('as', 'to'): 0.125, ('to', 'accompany'): 0.07692307692307693, ('accompany', 'this'): 1.0, ('this', 'gentleman'): 0.16666666666666666, ('gentleman', 'here'): 1.0, ('here', 'is'): 1.0, ('is', 'the'): 0.5, ('the', 'key'): 0.025, ('key', 'of'): 1.0, ('door', 'so'): 0.3333333333333333, ('so', 'that'): 0.3333333333333333, ('that', 'you'): 0.25, ('you', 'can'): 0.058823529411764705, ('can', 'go'): 0.5, ('go', 'in'): 0.5, ('in', 'and'): 0.1111111111111111, ('and', 'out'): 0.07692307692307693, ('out', 'as'): 1.0, ('you', 'please'): 0.058823529411764705, ('please', 'you'): 1.0, ('you', 'will'): 0.11764705882352941, ('will', 'bring'): 0.2, ('bring', 'the'): 1.0, ('the', 'priest'): 0.025, ('priest', 'with'): 1.0, ('with', 'you'): 0.25, ('you', 'and'): 0.058823529411764705, ('and', 'will'): 0.07692307692307693, ('will', 'oblige'): 0.2, ('oblige', 'me'): 1.0, ('me', 'by'): 0.3333333333333333, ('by', 'introducing'): 0.5, ('introducing', 'him'): 1.0, ('him', 'into'): 0.16666666666666666, ('into', 'my'): 1.0, ('my', 'childs'): 0.3333333333333333, ('childs', 'room'): 1.0, ('room', 'do'): 0.5, ('you', 'wish'): 0.058823529411764705, ('wish', 'to'): 1.0, ('to', 'see'): 0.07692307692307693, ('see', 'him'): 1.0, ('<s>', 'i'): 0.06896551724137931, ('i', 'only'): 0.1111111111111111, ('only', 'wish'): 1.0, ('to', 'be'): 0.07692307692307693, ('be', 'alone'): 0.3333333333333333, ('alone', 'you'): 0.3333333333333333, ('will', 'excuse'): 0.2, ('excuse', 'me'): 1.0, ('me', 'will'): 0.3333333333333333, ('will', 'you'): 0.2, ('not', '</s>'): 0.25, ('i', 'am'): 0.1111111111111111, ('am', 'going'): 1.0, ('going', 'sir'): 1.0, ('sir', 'and'): 0.3333333333333333, ('and', 'i'): 0.07692307692307693, ('do', 'not'): 0.125, ('not', 'hesitate'): 0.25, ('hesitate', 'to'): 1.0, ('to', 'say'): 0.07692307692307693, ('say', 'that'): 1.0, ('that', 'no'): 0.25, ('no', 'prayers'): 0.5, ('prayers', 'will'): 0.5, ('will', 'be'): 0.2, ('be', 'more'): 0.3333333333333333, ('more', 'fervent'): 1.0, ('fervent', 'than'): 1.0, ('than', 'mine'): 0.5, ('mine', '</s>'): 1.0}\n"
     ]
    }
   ],
   "source": [
    "from collections import Counter\n",
    "import utils\n",
    "import numpy as np\n",
    "\n",
    "\n",
    "def sample_run():\n",
    "    # sample usage by test code (this definition not actually run for the quiz)\n",
    "    tokens, bigrams = utils.bigrams_from_transcript('transcripts.txt')\n",
    "    bg_dict = bigram_mle(tokens, bigrams)\n",
    "    print(bg_dict)\n",
    "\n",
    "\n",
    "def bigram_mle(tokens, bigrams):\n",
    "    \"\"\"\n",
    "    provide a dictionary of probabilities for all bigrams in a corpus of text\n",
    "    the calculation is based on maximum likelihood estimation and does not include\n",
    "    any smoothing.  A tag '<unk>' has been added for unknown probabilities.\n",
    "    :param tokens: list\n",
    "        tokens: list of all tokens in the corpus\n",
    "    :param bigrams: list\n",
    "        bigrams: list of all two word tuples in the corpus\n",
    "    :return: dict\n",
    "        bg_mle_dict: a dictionary of bigrams:\n",
    "            key: tuple of two bigram words, in order OR <unk> key\n",
    "            value: float probability\n",
    "\n",
    "    \"\"\"\n",
    "    bg_mle_dict = {}\n",
    "    bg_mle_dict['<unk>'] = 0.\n",
    "    \n",
    "    token_counts = Counter(tokens)\n",
    "    bigram_counts = Counter(bigrams)\n",
    "    \n",
    "    for bigram, bigram_count in bigram_counts.items():\n",
    "        bg_mle_dict[bigram] = bigram_count / (token_counts[bigram[0]] + 1e-12)\n",
    "    return bg_mle_dict\n",
    "\n",
    "# output results\n",
    "tokens, bigrams = utils.bigrams_from_transcript('transcripts.txt')\n",
    "bg_dict = bigram_mle(tokens, bigrams)\n",
    "print(\"Probability bigram dictionary:\")\n",
    "print(bg_dict)"
   ]
  },
  {
   "cell_type": "code",
   "execution_count": null,
   "metadata": {},
   "outputs": [],
   "source": []
  }
 ],
 "metadata": {
  "grader_mode": "",
  "kernelspec": {
   "display_name": "Python 3",
   "language": "python",
   "name": "python3"
  },
  "language_info": {
   "codemirror_mode": {
    "name": "ipython",
    "version": 3
   },
   "file_extension": ".py",
   "mimetype": "text/x-python",
   "name": "python",
   "nbconvert_exporter": "python",
   "pygments_lexer": "ipython3",
   "version": "3.6.3"
  },
  "showGradeBtn": true
 },
 "nbformat": 4,
 "nbformat_minor": 2
}
