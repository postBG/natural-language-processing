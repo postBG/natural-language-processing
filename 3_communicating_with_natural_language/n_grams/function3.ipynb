{
 "cells": [
  {
   "cell_type": "code",
   "execution_count": 1,
   "metadata": {
    "edited": true,
    "gradable": true,
    "grader_id": "6wqr673i46g",
    "udacity_user_query": ""
   },
   "outputs": [
    {
     "name": "stdout",
     "output_type": "stream",
     "text": [
      "*** \"the old man spoke to me\"\n",
      "-34.8049553135\n",
      "*** \"me to spoke man old the\"\n",
      "-39.34280606\n",
      "*** \"old man me old man me\"\n",
      "-36.5989948127\n"
     ]
    }
   ],
   "source": [
    "import utils\n",
    "import numpy as np\n",
    "\n",
    "test_sentences = [\n",
    "    'the old man spoke to me',\n",
    "    'me to spoke man old the',\n",
    "    'old man me old man me',\n",
    "]\n",
    "\n",
    "def sample_run():\n",
    "    # sample usage by test code (this definition not actually run for the quiz)\n",
    "    bigram_log_dict = utils.bigram_add1_logs('transcripts.txt')\n",
    "    for sentence in test_sentences:\n",
    "        print('*** \"{}\"'.format(sentence))\n",
    "        print(log_prob_of_sentence(sentence, bigram_log_dict))\n",
    "\n",
    "def log_prob_of_sentence(sentence, bigram_log_dict):\n",
    "    # get the sentence bigrams with utils.sentence_to_bigrams\n",
    "    # look up the bigrams from the sentence in the bigram_log_dict\n",
    "    # add all the the log probabilities together\n",
    "    # if a word doesn't exist, be sure to use the value of the '<unk>' lookup instead\n",
    "    _, s_bigrams = utils.sentence_to_bigrams(sentence)\n",
    "    total_log_prob = sum([bigram_log_dict.get(bigram, bigram_log_dict['<unk>']) for bigram in s_bigrams])\n",
    "    return total_log_prob\n",
    "\n",
    "# Uncomment the code below to output your log probability\n",
    "bigram_log_dict = utils.bigram_add1_logs('transcripts.txt')\n",
    "for sentence in test_sentences:\n",
    "    print('*** \"{}\"'.format(sentence))\n",
    "    print(log_prob_of_sentence(sentence, bigram_log_dict))"
   ]
  },
  {
   "cell_type": "code",
   "execution_count": null,
   "metadata": {},
   "outputs": [],
   "source": []
  }
 ],
 "metadata": {
  "grader_mode": "",
  "kernelspec": {
   "display_name": "Python 3",
   "language": "python",
   "name": "python3"
  },
  "language_info": {
   "codemirror_mode": {
    "name": "ipython",
    "version": 3
   },
   "file_extension": ".py",
   "mimetype": "text/x-python",
   "name": "python",
   "nbconvert_exporter": "python",
   "pygments_lexer": "ipython3",
   "version": "3.6.3"
  },
  "showGradeBtn": true
 },
 "nbformat": 4,
 "nbformat_minor": 2
}
