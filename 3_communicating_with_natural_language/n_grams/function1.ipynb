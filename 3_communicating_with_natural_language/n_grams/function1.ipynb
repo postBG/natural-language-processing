{
 "cells": [
  {
   "cell_type": "code",
   "execution_count": null,
   "metadata": {
    "edited": true,
    "gradable": true,
    "grader_id": "33xsnvwyrpu",
    "udacity_user_query": ""
   },
   "outputs": [],
   "source": [
    "test_sentences = [\n",
    "    'the old man spoke to me',\n",
    "    'me to spoke man old the',\n",
    "    'old man me old man me',\n",
    "]\n",
    "\n",
    "def sentence_to_bigrams(sentence):\n",
    "    \"\"\"\n",
    "    Add start '<s>' and stop '</s>' tags to the sentence and tokenize it into a list\n",
    "    of lower-case words (sentence_tokens) and bigrams (sentence_bigrams)\n",
    "    :param sentence: string\n",
    "    :return: list, list\n",
    "        sentence_tokens: ordered list of words found in the sentence\n",
    "        sentence_bigrams: a list of ordered two-word tuples found in the sentence\n",
    "    \"\"\"\n",
    "    start_token, stop_token = \"<s>\", \"</s>\"\n",
    "    sentence_tokens = [start_token, *sentence.split(\" \"), stop_token]\n",
    "    sentence_bigrams = [(f, s) for f, s in zip(sentence_tokens, sentence_tokens[1:])]\n",
    "    return sentence_tokens, sentence_bigrams\n",
    "\n",
    "# test your code\n",
    "for sentence in test_sentences:\n",
    "    print('\\n*** Sentence: \"{}\"'.format(sentence))\n",
    "    t, b = sentence_to_bigrams(sentence)\n",
    "    print('tokens = {}'.format(t))\n",
    "    print('bigrams = {}'.format(b))"
   ]
  },
  {
   "cell_type": "code",
   "execution_count": null,
   "metadata": {
    "grader_id": "fdv0qrxlcgd"
   },
   "outputs": [],
   "source": []
  }
 ],
 "metadata": {
  "grader_mode": "",
  "kernelspec": {
   "display_name": "Python 3",
   "language": "python",
   "name": "python3"
  },
  "language_info": {
   "codemirror_mode": {
    "name": "ipython",
    "version": 3
   },
   "file_extension": ".py",
   "mimetype": "text/x-python",
   "name": "python",
   "nbconvert_exporter": "python",
   "pygments_lexer": "ipython3",
   "version": "3.6.3"
  },
  "showGradeBtn": true
 },
 "nbformat": 4,
 "nbformat_minor": 2
}
